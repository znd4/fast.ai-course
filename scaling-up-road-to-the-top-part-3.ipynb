{
 "cells": [
  {
   "cell_type": "code",
   "execution_count": 1,
   "id": "486a6b4f",
   "metadata": {
    "_kg_hide-input": true,
    "_kg_hide-output": true,
    "execution": {
     "iopub.execute_input": "2022-06-25T19:11:10.560217Z",
     "iopub.status.busy": "2022-06-25T19:11:10.559705Z",
     "iopub.status.idle": "2022-06-25T19:11:22.090563Z",
     "shell.execute_reply": "2022-06-25T19:11:22.089661Z"
    },
    "papermill": {
     "duration": 11.544528,
     "end_time": "2022-06-25T19:11:22.092685",
     "exception": false,
     "start_time": "2022-06-25T19:11:10.548157",
     "status": "completed"
    },
    "tags": []
   },
   "outputs": [
    {
     "name": "stdout",
     "output_type": "stream",
     "text": [
      "\u001b[33mWARNING: Running pip as the 'root' user can result in broken permissions and conflicting behaviour with the system package manager. It is recommended to use a virtual environment instead: https://pip.pypa.io/warnings/venv\u001b[0m\u001b[33m\r\n",
      "\u001b[0m"
     ]
    }
   ],
   "source": [
    "# install fastkaggle if not available\n",
    "try: import fastkaggle\n",
    "except ModuleNotFoundError:\n",
    "    !pip install -Uq fastkaggle\n",
    "\n",
    "from fastkaggle import *"
   ]
  },
  {
   "cell_type": "markdown",
   "id": "0c7cb110",
   "metadata": {
    "papermill": {
     "duration": 0.009267,
     "end_time": "2022-06-25T19:11:22.111468",
     "exception": false,
     "start_time": "2022-06-25T19:11:22.102201",
     "status": "completed"
    },
    "tags": []
   },
   "source": [
    "This is part 3 of the [Road to the Top](https://www.kaggle.com/code/jhoward/first-steps-road-to-the-top-part-1) series, in which I show the process I used to tackle the [Paddy Doctor](https://www.kaggle.com/competitions/paddy-disease-classification) competition, leading to four 1st place submissions. The previous notebook is available here: [part 2](https://www.kaggle.com/code/jhoward/first-steps-road-to-the-top-part-1)."
   ]
  },
  {
   "cell_type": "markdown",
   "id": "52be0798",
   "metadata": {
    "papermill": {
     "duration": 0.00864,
     "end_time": "2022-06-25T19:11:22.129872",
     "exception": false,
     "start_time": "2022-06-25T19:11:22.121232",
     "status": "completed"
    },
    "tags": []
   },
   "source": [
    "## Memory and gradient accumulation"
   ]
  },
  {
   "cell_type": "markdown",
   "id": "7655527b",
   "metadata": {
    "papermill": {
     "duration": 0.008635,
     "end_time": "2022-06-25T19:11:22.147394",
     "exception": false,
     "start_time": "2022-06-25T19:11:22.138759",
     "status": "completed"
    },
    "tags": []
   },
   "source": [
    "First we'll repeat the steps we used last time to access the data and ensure all the latest libraries are installed, and we'll also grab the files we'll need for the test set:"
   ]
  },
  {
   "cell_type": "code",
   "execution_count": 2,
   "id": "09c55f4c",
   "metadata": {
    "_kg_hide-output": true,
    "execution": {
     "iopub.execute_input": "2022-06-25T19:11:22.166895Z",
     "iopub.status.busy": "2022-06-25T19:11:22.166248Z",
     "iopub.status.idle": "2022-06-25T19:11:53.817488Z",
     "shell.execute_reply": "2022-06-25T19:11:53.816444Z"
    },
    "papermill": {
     "duration": 31.66361,
     "end_time": "2022-06-25T19:11:53.819866",
     "exception": false,
     "start_time": "2022-06-25T19:11:22.156256",
     "status": "completed"
    },
    "tags": []
   },
   "outputs": [
    {
     "name": "stderr",
     "output_type": "stream",
     "text": [
      "ERROR: pip's dependency resolver does not currently take into account all the packages that are installed. This behaviour is the source of the following dependency conflicts.\n",
      "tensorflow-io 0.21.0 requires tensorflow-io-gcs-filesystem==0.21.0, which is not installed.\n",
      "tensorflow 2.6.4 requires absl-py~=0.10, but you have absl-py 1.0.0 which is incompatible.\n",
      "tensorflow 2.6.4 requires numpy~=1.19.2, but you have numpy 1.21.6 which is incompatible.\n",
      "tensorflow 2.6.4 requires six~=1.15.0, but you have six 1.16.0 which is incompatible.\n",
      "tensorflow 2.6.4 requires wrapt~=1.12.1, but you have wrapt 1.14.1 which is incompatible.\n",
      "tensorflow-transform 1.8.0 requires tensorflow!=2.0.*,!=2.1.*,!=2.2.*,!=2.3.*,!=2.4.*,!=2.5.*,!=2.6.*,!=2.7.*,<2.9,>=1.15.5, but you have tensorflow 2.6.4 which is incompatible.\n",
      "tensorflow-serving-api 2.8.0 requires tensorflow<3,>=2.8.0, but you have tensorflow 2.6.4 which is incompatible.\n",
      "rich 12.4.4 requires typing-extensions<5.0,>=4.0.0; python_version < \"3.9\", but you have typing-extensions 3.10.0.2 which is incompatible.\n",
      "pytorch-lightning 1.6.3 requires typing-extensions>=4.0.0, but you have typing-extensions 3.10.0.2 which is incompatible.\n",
      "pytools 2022.1.9 requires typing-extensions>=4.0; python_version < \"3.11\", but you have typing-extensions 3.10.0.2 which is incompatible.\n",
      "flax 0.5.0 requires typing-extensions>=4.1.1, but you have typing-extensions 3.10.0.2 which is incompatible.\n",
      "flake8 4.0.1 requires importlib-metadata<4.3; python_version < \"3.8\", but you have importlib-metadata 4.11.4 which is incompatible.\n",
      "apache-beam 2.38.0 requires dill<0.3.2,>=0.3.1.1, but you have dill 0.3.5.1 which is incompatible.\n",
      "apache-beam 2.38.0 requires httplib2<0.20.0,>=0.8, but you have httplib2 0.20.4 which is incompatible.\n",
      "aioitertools 0.10.0 requires typing_extensions>=4.0; python_version < \"3.10\", but you have typing-extensions 3.10.0.2 which is incompatible.\n",
      "aiobotocore 2.3.2 requires botocore<1.24.22,>=1.24.21, but you have botocore 1.26.7 which is incompatible.\n"
     ]
    }
   ],
   "source": [
    "comp = 'paddy-disease-classification'\n",
    "path = setup_comp(comp, install='fastai \"timm>=0.6.2.dev0\"')\n",
    "from fastai.vision.all import *\n",
    "set_seed(42)\n",
    "\n",
    "tst_files = get_image_files(path/'test_images').sorted()"
   ]
  },
  {
   "cell_type": "markdown",
   "id": "a88c73be",
   "metadata": {
    "papermill": {
     "duration": 0.009213,
     "end_time": "2022-06-25T19:11:53.839155",
     "exception": false,
     "start_time": "2022-06-25T19:11:53.829942",
     "status": "completed"
    },
    "tags": []
   },
   "source": [
    "In this analysis our goal will be to train an ensemble of larger models with larger inputs. The challenge when training such models is generally GPU memory. Kaggle GPUs have 16280MiB of memory available, as at the time of writing. I like to try out my notebooks on my home PC, then upload them -- but I still need them to run OK on Kaggle (especially if it's a code competition, where this is required). My home PC has 24GiB cards, so just because it runs OK at home doesn't mean it'll run OK on Kaggle.\n",
    " \n",
    "It's really helpful to be able to quickly try a few models and image sizes and find out what will run successfully. To make this quick, we can just grab a small subset of the data for running short epochs -- the memory use will still be the same, but it'll be much faster.\n",
    "\n",
    "One easy way to do this is to simply pick a category with few files in it. Here's our options:"
   ]
  },
  {
   "cell_type": "code",
   "execution_count": 3,
   "id": "263af2b4",
   "metadata": {
    "execution": {
     "iopub.execute_input": "2022-06-25T19:11:53.859304Z",
     "iopub.status.busy": "2022-06-25T19:11:53.858484Z",
     "iopub.status.idle": "2022-06-25T19:11:53.895815Z",
     "shell.execute_reply": "2022-06-25T19:11:53.895111Z"
    },
    "papermill": {
     "duration": 0.049201,
     "end_time": "2022-06-25T19:11:53.897451",
     "exception": false,
     "start_time": "2022-06-25T19:11:53.848250",
     "status": "completed"
    },
    "tags": []
   },
   "outputs": [
    {
     "data": {
      "text/plain": [
       "normal                      1764\n",
       "blast                       1738\n",
       "hispa                       1594\n",
       "dead_heart                  1442\n",
       "tungro                      1088\n",
       "brown_spot                   965\n",
       "downy_mildew                 620\n",
       "bacterial_leaf_blight        479\n",
       "bacterial_leaf_streak        380\n",
       "bacterial_panicle_blight     337\n",
       "Name: label, dtype: int64"
      ]
     },
     "execution_count": 3,
     "metadata": {},
     "output_type": "execute_result"
    }
   ],
   "source": [
    "df = pd.read_csv(path/'train.csv')\n",
    "df.label.value_counts()"
   ]
  },
  {
   "cell_type": "markdown",
   "id": "ad48f0fe",
   "metadata": {
    "papermill": {
     "duration": 0.009002,
     "end_time": "2022-06-25T19:11:53.915738",
     "exception": false,
     "start_time": "2022-06-25T19:11:53.906736",
     "status": "completed"
    },
    "tags": []
   },
   "source": [
    "Let's use *bacterial_panicle_blight* since it's the smallest:"
   ]
  },
  {
   "cell_type": "code",
   "execution_count": 4,
   "id": "6b0e02c3",
   "metadata": {
    "execution": {
     "iopub.execute_input": "2022-06-25T19:11:53.935806Z",
     "iopub.status.busy": "2022-06-25T19:11:53.935233Z",
     "iopub.status.idle": "2022-06-25T19:11:53.939503Z",
     "shell.execute_reply": "2022-06-25T19:11:53.938479Z"
    },
    "papermill": {
     "duration": 0.01657,
     "end_time": "2022-06-25T19:11:53.941470",
     "exception": false,
     "start_time": "2022-06-25T19:11:53.924900",
     "status": "completed"
    },
    "tags": []
   },
   "outputs": [],
   "source": [
    "trn_path = path/'train_images'/'bacterial_panicle_blight'"
   ]
  },
  {
   "cell_type": "markdown",
   "id": "5b5d76aa",
   "metadata": {
    "papermill": {
     "duration": 0.009156,
     "end_time": "2022-06-25T19:11:53.959962",
     "exception": false,
     "start_time": "2022-06-25T19:11:53.950806",
     "status": "completed"
    },
    "tags": []
   },
   "source": [
    "Now we'll set up a `train` function which is very similar to the steps we used for training in the last notebook. But there's a few significant differences...\n",
    "\n",
    "The first is that I'm using a `finetune` argument to pick whether we are going to run the `fine_tune()` method, or the `fit_one_cycle()` method -- the latter is faster since it doesn't do an initial fine-tuning of the head. When we fine tune in this function I also have it calculate and return the TTA predictions on the test set, since later on we'll be ensembling the TTA results of a number of models. Note also that we no longer have `seed=42` in the `ImageDataLoaders` line -- that means we'll have different training and validation sets each time we call this. That's what we'll want for ensembling, since it means that each model will use slightly different data.\n",
    "\n",
    "The more important change is that I've added an `accum` argument to implement *gradient accumulation*. As you'll see in the code below, this does two things:\n",
    "\n",
    "1. Divide the batch size by `accum`\n",
    "1. Add the `GradientAccumulation` callback, passing in `accum`."
   ]
  },
  {
   "cell_type": "code",
   "execution_count": 5,
   "id": "3e2f6e48",
   "metadata": {
    "execution": {
     "iopub.execute_input": "2022-06-25T19:11:53.979487Z",
     "iopub.status.busy": "2022-06-25T19:11:53.979106Z",
     "iopub.status.idle": "2022-06-25T19:11:53.985861Z",
     "shell.execute_reply": "2022-06-25T19:11:53.985172Z"
    },
    "papermill": {
     "duration": 0.018464,
     "end_time": "2022-06-25T19:11:53.987631",
     "exception": false,
     "start_time": "2022-06-25T19:11:53.969167",
     "status": "completed"
    },
    "tags": []
   },
   "outputs": [],
   "source": [
    "def train(arch, size, item=Resize(480, method='squish'), accum=1, finetune=True, epochs=12):\n",
    "    dls = ImageDataLoaders.from_folder(trn_path, valid_pct=0.2, item_tfms=item,\n",
    "        batch_tfms=aug_transforms(size=size, min_scale=0.75), bs=64//accum)\n",
    "    cbs = GradientAccumulation(64) if accum else []\n",
    "    learn = vision_learner(dls, arch, metrics=error_rate, cbs=cbs).to_fp16()\n",
    "    if finetune:\n",
    "        learn.fine_tune(epochs, 0.01)\n",
    "        return learn.tta(dl=dls.test_dl(tst_files))\n",
    "    else:\n",
    "        learn.unfreeze()\n",
    "        learn.fit_one_cycle(epochs, 0.01)"
   ]
  },
  {
   "cell_type": "markdown",
   "id": "59e53085",
   "metadata": {
    "papermill": {
     "duration": 0.009187,
     "end_time": "2022-06-25T19:11:54.006229",
     "exception": false,
     "start_time": "2022-06-25T19:11:53.997042",
     "status": "completed"
    },
    "tags": []
   },
   "source": [
    "*Gradient accumulation* refers to a very simple trick: rather than updating the model weights after every batch based on that batch's gradients, instead keep *accumulating* (adding up) the gradients for a few batches, and them update the model weights with those accumulated gradients. In fastai, the parameter you pass to `GradientAccumulation` defines how many batches of gradients are accumulated. Since we're adding up the gradients over `accum` batches, we therefore need to divide the batch size by that same number. The resulting training loop is nearly mathematically identical to using the original batch size, but the amount of memory used is the same as using a batch size `accum` times smaller!\n",
    "\n",
    "For instance, here's a basic example of a single epoch of a training loop without gradient accumulation:\n",
    "\n",
    "```python\n",
    "for x,y in dl:\n",
    "    calc_loss(coeffs, x, y).backward()\n",
    "    coeffs.data.sub_(coeffs.grad * lr)\n",
    "    coeffs.grad.zero_()\n",
    "```\n",
    "\n",
    "Here's the same thing, but with gradient accumulation added (assuming a target effective batch size of 64):\n",
    "\n",
    "```python\n",
    "count = 0            # track count of items seen since last weight update\n",
    "for x,y in dl:\n",
    "    count += len(x)  # update count based on this minibatch size\n",
    "    calc_loss(coeffs, x, y).backward()\n",
    "    if count>64:     # count is greater than accumulation target, so do weight update\n",
    "        coeffs.data.sub_(coeffs.grad * lr)\n",
    "        coeffs.grad.zero_()\n",
    "        count=0      # reset count\n",
    "```\n",
    "\n",
    "The full implementation in fastai is only a few lines of code -- here's the [source code](https://github.com/fastai/fastai/blob/master/fastai/callback/training.py#L26).\n",
    "\n",
    "To see the impact of gradient accumulation, consider this small model:"
   ]
  },
  {
   "cell_type": "code",
   "execution_count": 6,
   "id": "66cceb16",
   "metadata": {
    "execution": {
     "iopub.execute_input": "2022-06-25T19:11:54.026258Z",
     "iopub.status.busy": "2022-06-25T19:11:54.025601Z",
     "iopub.status.idle": "2022-06-25T19:12:22.059385Z",
     "shell.execute_reply": "2022-06-25T19:12:22.058442Z"
    },
    "papermill": {
     "duration": 28.045648,
     "end_time": "2022-06-25T19:12:22.061188",
     "exception": false,
     "start_time": "2022-06-25T19:11:54.015540",
     "status": "completed"
    },
    "tags": []
   },
   "outputs": [
    {
     "name": "stderr",
     "output_type": "stream",
     "text": [
      "Downloading: \"https://dl.fbaipublicfiles.com/convnext/convnext_small_22k_224.pth\" to /root/.cache/torch/hub/checkpoints/convnext_small_22k_224.pth\n"
     ]
    },
    {
     "data": {
      "text/html": [
       "\n",
       "<style>\n",
       "    /* Turns off some styling */\n",
       "    progress {\n",
       "        /* gets rid of default border in Firefox and Opera. */\n",
       "        border: none;\n",
       "        /* Needs to be in here for Safari polyfill so background images work as expected. */\n",
       "        background-size: auto;\n",
       "    }\n",
       "    .progress-bar-interrupted, .progress-bar-interrupted::-webkit-progress-bar {\n",
       "        background: #F44336;\n",
       "    }\n",
       "</style>\n"
      ],
      "text/plain": [
       "<IPython.core.display.HTML object>"
      ]
     },
     "metadata": {},
     "output_type": "display_data"
    },
    {
     "data": {
      "text/html": [
       "<table border=\"1\" class=\"dataframe\">\n",
       "  <thead>\n",
       "    <tr style=\"text-align: left;\">\n",
       "      <th>epoch</th>\n",
       "      <th>train_loss</th>\n",
       "      <th>valid_loss</th>\n",
       "      <th>error_rate</th>\n",
       "      <th>time</th>\n",
       "    </tr>\n",
       "  </thead>\n",
       "  <tbody>\n",
       "    <tr>\n",
       "      <td>0</td>\n",
       "      <td>0.000000</td>\n",
       "      <td>0.000000</td>\n",
       "      <td>0.000000</td>\n",
       "      <td>00:10</td>\n",
       "    </tr>\n",
       "  </tbody>\n",
       "</table>"
      ],
      "text/plain": [
       "<IPython.core.display.HTML object>"
      ]
     },
     "metadata": {},
     "output_type": "display_data"
    }
   ],
   "source": [
    "train('convnext_small_in22k', 128, epochs=1, accum=1, finetune=False)"
   ]
  },
  {
   "cell_type": "markdown",
   "id": "9838269a",
   "metadata": {
    "papermill": {
     "duration": 0.009997,
     "end_time": "2022-06-25T19:12:22.081607",
     "exception": false,
     "start_time": "2022-06-25T19:12:22.071610",
     "status": "completed"
    },
    "tags": []
   },
   "source": [
    "Let's create a function to find out how much memory it used, and also to then clear out the memory for the next run:"
   ]
  },
  {
   "cell_type": "code",
   "execution_count": 7,
   "id": "7ec19461",
   "metadata": {
    "execution": {
     "iopub.execute_input": "2022-06-25T19:12:22.104042Z",
     "iopub.status.busy": "2022-06-25T19:12:22.103279Z",
     "iopub.status.idle": "2022-06-25T19:12:22.109190Z",
     "shell.execute_reply": "2022-06-25T19:12:22.108536Z"
    },
    "papermill": {
     "duration": 0.018755,
     "end_time": "2022-06-25T19:12:22.110924",
     "exception": false,
     "start_time": "2022-06-25T19:12:22.092169",
     "status": "completed"
    },
    "tags": []
   },
   "outputs": [],
   "source": [
    "import gc\n",
    "def report_gpu():\n",
    "    print(torch.cuda.list_gpu_processes())\n",
    "    gc.collect()\n",
    "    torch.cuda.empty_cache()"
   ]
  },
  {
   "cell_type": "code",
   "execution_count": 8,
   "id": "4024269f",
   "metadata": {
    "execution": {
     "iopub.execute_input": "2022-06-25T19:12:22.132610Z",
     "iopub.status.busy": "2022-06-25T19:12:22.132330Z",
     "iopub.status.idle": "2022-06-25T19:12:22.499607Z",
     "shell.execute_reply": "2022-06-25T19:12:22.498148Z"
    },
    "papermill": {
     "duration": 0.380825,
     "end_time": "2022-06-25T19:12:22.501626",
     "exception": false,
     "start_time": "2022-06-25T19:12:22.120801",
     "status": "completed"
    },
    "tags": []
   },
   "outputs": [
    {
     "name": "stdout",
     "output_type": "stream",
     "text": [
      "GPU:0\n",
      "process       2049 uses     4281.000 MB GPU memory\n"
     ]
    }
   ],
   "source": [
    "report_gpu()"
   ]
  },
  {
   "cell_type": "markdown",
   "id": "4e59be9f",
   "metadata": {
    "papermill": {
     "duration": 0.009743,
     "end_time": "2022-06-25T19:12:22.521760",
     "exception": false,
     "start_time": "2022-06-25T19:12:22.512017",
     "status": "completed"
    },
    "tags": []
   },
   "source": [
    "So with `accum=1` the GPU used around 5GB RAM. Let's try `accum=2`:"
   ]
  },
  {
   "cell_type": "code",
   "execution_count": 9,
   "id": "ef293f80",
   "metadata": {
    "execution": {
     "iopub.execute_input": "2022-06-25T19:12:22.542892Z",
     "iopub.status.busy": "2022-06-25T19:12:22.542587Z",
     "iopub.status.idle": "2022-06-25T19:12:28.609542Z",
     "shell.execute_reply": "2022-06-25T19:12:28.608439Z"
    },
    "papermill": {
     "duration": 6.083057,
     "end_time": "2022-06-25T19:12:28.614897",
     "exception": false,
     "start_time": "2022-06-25T19:12:22.531840",
     "status": "completed"
    },
    "tags": []
   },
   "outputs": [
    {
     "data": {
      "text/html": [
       "\n",
       "<style>\n",
       "    /* Turns off some styling */\n",
       "    progress {\n",
       "        /* gets rid of default border in Firefox and Opera. */\n",
       "        border: none;\n",
       "        /* Needs to be in here for Safari polyfill so background images work as expected. */\n",
       "        background-size: auto;\n",
       "    }\n",
       "    .progress-bar-interrupted, .progress-bar-interrupted::-webkit-progress-bar {\n",
       "        background: #F44336;\n",
       "    }\n",
       "</style>\n"
      ],
      "text/plain": [
       "<IPython.core.display.HTML object>"
      ]
     },
     "metadata": {},
     "output_type": "display_data"
    },
    {
     "data": {
      "text/html": [
       "<table border=\"1\" class=\"dataframe\">\n",
       "  <thead>\n",
       "    <tr style=\"text-align: left;\">\n",
       "      <th>epoch</th>\n",
       "      <th>train_loss</th>\n",
       "      <th>valid_loss</th>\n",
       "      <th>error_rate</th>\n",
       "      <th>time</th>\n",
       "    </tr>\n",
       "  </thead>\n",
       "  <tbody>\n",
       "    <tr>\n",
       "      <td>0</td>\n",
       "      <td>0.000000</td>\n",
       "      <td>0.000000</td>\n",
       "      <td>0.000000</td>\n",
       "      <td>00:04</td>\n",
       "    </tr>\n",
       "  </tbody>\n",
       "</table>"
      ],
      "text/plain": [
       "<IPython.core.display.HTML object>"
      ]
     },
     "metadata": {},
     "output_type": "display_data"
    },
    {
     "name": "stdout",
     "output_type": "stream",
     "text": [
      "GPU:0\n",
      "process       2049 uses     3165.000 MB GPU memory\n"
     ]
    }
   ],
   "source": [
    "train('convnext_small_in22k', 128, epochs=1, accum=2, finetune=False)\n",
    "report_gpu()"
   ]
  },
  {
   "cell_type": "markdown",
   "id": "a8947bd6",
   "metadata": {
    "papermill": {
     "duration": 0.021239,
     "end_time": "2022-06-25T19:12:28.653843",
     "exception": false,
     "start_time": "2022-06-25T19:12:28.632604",
     "status": "completed"
    },
    "tags": []
   },
   "source": [
    "As you see, the RAM usage has now gone down to 4GB. It's not halved since there's other overhead involved (for larger models this overhead is likely to be relatively lower).\n",
    "\n",
    "Let's try `4`:"
   ]
  },
  {
   "cell_type": "code",
   "execution_count": 10,
   "id": "5b444e45",
   "metadata": {
    "execution": {
     "iopub.execute_input": "2022-06-25T19:12:28.689461Z",
     "iopub.status.busy": "2022-06-25T19:12:28.689100Z",
     "iopub.status.idle": "2022-06-25T19:12:35.184194Z",
     "shell.execute_reply": "2022-06-25T19:12:35.182663Z"
    },
    "papermill": {
     "duration": 6.515231,
     "end_time": "2022-06-25T19:12:35.186627",
     "exception": false,
     "start_time": "2022-06-25T19:12:28.671396",
     "status": "completed"
    },
    "tags": []
   },
   "outputs": [
    {
     "data": {
      "text/html": [
       "\n",
       "<style>\n",
       "    /* Turns off some styling */\n",
       "    progress {\n",
       "        /* gets rid of default border in Firefox and Opera. */\n",
       "        border: none;\n",
       "        /* Needs to be in here for Safari polyfill so background images work as expected. */\n",
       "        background-size: auto;\n",
       "    }\n",
       "    .progress-bar-interrupted, .progress-bar-interrupted::-webkit-progress-bar {\n",
       "        background: #F44336;\n",
       "    }\n",
       "</style>\n"
      ],
      "text/plain": [
       "<IPython.core.display.HTML object>"
      ]
     },
     "metadata": {},
     "output_type": "display_data"
    },
    {
     "data": {
      "text/html": [
       "<table border=\"1\" class=\"dataframe\">\n",
       "  <thead>\n",
       "    <tr style=\"text-align: left;\">\n",
       "      <th>epoch</th>\n",
       "      <th>train_loss</th>\n",
       "      <th>valid_loss</th>\n",
       "      <th>error_rate</th>\n",
       "      <th>time</th>\n",
       "    </tr>\n",
       "  </thead>\n",
       "  <tbody>\n",
       "    <tr>\n",
       "      <td>0</td>\n",
       "      <td>0.000000</td>\n",
       "      <td>0.000000</td>\n",
       "      <td>0.000000</td>\n",
       "      <td>00:04</td>\n",
       "    </tr>\n",
       "  </tbody>\n",
       "</table>"
      ],
      "text/plain": [
       "<IPython.core.display.HTML object>"
      ]
     },
     "metadata": {},
     "output_type": "display_data"
    },
    {
     "name": "stdout",
     "output_type": "stream",
     "text": [
      "GPU:0\n",
      "process       2049 uses     2605.000 MB GPU memory\n"
     ]
    }
   ],
   "source": [
    "train('convnext_small_in22k', 128, epochs=1, accum=4, finetune=False)\n",
    "report_gpu()"
   ]
  },
  {
   "cell_type": "markdown",
   "id": "6b68719d",
   "metadata": {
    "papermill": {
     "duration": 0.010855,
     "end_time": "2022-06-25T19:12:35.208576",
     "exception": false,
     "start_time": "2022-06-25T19:12:35.197721",
     "status": "completed"
    },
    "tags": []
   },
   "source": [
    "The memory use is even lower!"
   ]
  },
  {
   "cell_type": "markdown",
   "id": "fff55353",
   "metadata": {
    "papermill": {
     "duration": 0.010752,
     "end_time": "2022-06-25T19:12:35.229963",
     "exception": false,
     "start_time": "2022-06-25T19:12:35.219211",
     "status": "completed"
    },
    "tags": []
   },
   "source": [
    "## Checking memory use"
   ]
  },
  {
   "cell_type": "markdown",
   "id": "67f0de9c",
   "metadata": {
    "papermill": {
     "duration": 0.010351,
     "end_time": "2022-06-25T19:12:35.250857",
     "exception": false,
     "start_time": "2022-06-25T19:12:35.240506",
     "status": "completed"
    },
    "tags": []
   },
   "source": [
    "We'll now check the memory use for each of the architectures and sizes we'll be training later, to ensure they all fit in 16GB RAM. For each of these, I tried `accum=1` first, and then doubled it any time the resulting memory use was over 16GB. As it turns out, `accum=2` was what I needed for every case.\n",
    "\n",
    "First, `convnext_large`:"
   ]
  },
  {
   "cell_type": "code",
   "execution_count": 11,
   "id": "df720378",
   "metadata": {
    "execution": {
     "iopub.execute_input": "2022-06-25T19:12:35.273896Z",
     "iopub.status.busy": "2022-06-25T19:12:35.273518Z",
     "iopub.status.idle": "2022-06-25T19:13:31.860521Z",
     "shell.execute_reply": "2022-06-25T19:13:31.859348Z"
    },
    "papermill": {
     "duration": 56.601156,
     "end_time": "2022-06-25T19:13:31.862675",
     "exception": false,
     "start_time": "2022-06-25T19:12:35.261519",
     "status": "completed"
    },
    "tags": []
   },
   "outputs": [
    {
     "name": "stderr",
     "output_type": "stream",
     "text": [
      "Downloading: \"https://dl.fbaipublicfiles.com/convnext/convnext_large_22k_224.pth\" to /root/.cache/torch/hub/checkpoints/convnext_large_22k_224.pth\n"
     ]
    },
    {
     "data": {
      "text/html": [
       "\n",
       "<style>\n",
       "    /* Turns off some styling */\n",
       "    progress {\n",
       "        /* gets rid of default border in Firefox and Opera. */\n",
       "        border: none;\n",
       "        /* Needs to be in here for Safari polyfill so background images work as expected. */\n",
       "        background-size: auto;\n",
       "    }\n",
       "    .progress-bar-interrupted, .progress-bar-interrupted::-webkit-progress-bar {\n",
       "        background: #F44336;\n",
       "    }\n",
       "</style>\n"
      ],
      "text/plain": [
       "<IPython.core.display.HTML object>"
      ]
     },
     "metadata": {},
     "output_type": "display_data"
    },
    {
     "data": {
      "text/html": [
       "<table border=\"1\" class=\"dataframe\">\n",
       "  <thead>\n",
       "    <tr style=\"text-align: left;\">\n",
       "      <th>epoch</th>\n",
       "      <th>train_loss</th>\n",
       "      <th>valid_loss</th>\n",
       "      <th>error_rate</th>\n",
       "      <th>time</th>\n",
       "    </tr>\n",
       "  </thead>\n",
       "  <tbody>\n",
       "    <tr>\n",
       "      <td>0</td>\n",
       "      <td>0.000000</td>\n",
       "      <td>0.000000</td>\n",
       "      <td>0.000000</td>\n",
       "      <td>00:12</td>\n",
       "    </tr>\n",
       "  </tbody>\n",
       "</table>"
      ],
      "text/plain": [
       "<IPython.core.display.HTML object>"
      ]
     },
     "metadata": {},
     "output_type": "display_data"
    },
    {
     "name": "stdout",
     "output_type": "stream",
     "text": [
      "GPU:0\n",
      "process       2049 uses    11269.000 MB GPU memory\n"
     ]
    }
   ],
   "source": [
    "train('convnext_large_in22k', 224, epochs=1, accum=2, finetune=False)\n",
    "report_gpu()"
   ]
  },
  {
   "cell_type": "code",
   "execution_count": 12,
   "id": "e028828a",
   "metadata": {
    "execution": {
     "iopub.execute_input": "2022-06-25T19:13:31.886680Z",
     "iopub.status.busy": "2022-06-25T19:13:31.885960Z",
     "iopub.status.idle": "2022-06-25T19:13:54.359689Z",
     "shell.execute_reply": "2022-06-25T19:13:54.358872Z"
    },
    "papermill": {
     "duration": 22.487644,
     "end_time": "2022-06-25T19:13:54.361562",
     "exception": false,
     "start_time": "2022-06-25T19:13:31.873918",
     "status": "completed"
    },
    "tags": []
   },
   "outputs": [
    {
     "data": {
      "text/html": [
       "\n",
       "<style>\n",
       "    /* Turns off some styling */\n",
       "    progress {\n",
       "        /* gets rid of default border in Firefox and Opera. */\n",
       "        border: none;\n",
       "        /* Needs to be in here for Safari polyfill so background images work as expected. */\n",
       "        background-size: auto;\n",
       "    }\n",
       "    .progress-bar-interrupted, .progress-bar-interrupted::-webkit-progress-bar {\n",
       "        background: #F44336;\n",
       "    }\n",
       "</style>\n"
      ],
      "text/plain": [
       "<IPython.core.display.HTML object>"
      ]
     },
     "metadata": {},
     "output_type": "display_data"
    },
    {
     "data": {
      "text/html": [
       "<table border=\"1\" class=\"dataframe\">\n",
       "  <thead>\n",
       "    <tr style=\"text-align: left;\">\n",
       "      <th>epoch</th>\n",
       "      <th>train_loss</th>\n",
       "      <th>valid_loss</th>\n",
       "      <th>error_rate</th>\n",
       "      <th>time</th>\n",
       "    </tr>\n",
       "  </thead>\n",
       "  <tbody>\n",
       "    <tr>\n",
       "      <td>0</td>\n",
       "      <td>0.000000</td>\n",
       "      <td>0.000000</td>\n",
       "      <td>0.000000</td>\n",
       "      <td>00:16</td>\n",
       "    </tr>\n",
       "  </tbody>\n",
       "</table>"
      ],
      "text/plain": [
       "<IPython.core.display.HTML object>"
      ]
     },
     "metadata": {},
     "output_type": "display_data"
    },
    {
     "name": "stdout",
     "output_type": "stream",
     "text": [
      "GPU:0\n",
      "process       2049 uses    14723.000 MB GPU memory\n"
     ]
    }
   ],
   "source": [
    "train('convnext_large_in22k', (320,240), epochs=1, accum=2, finetune=False)\n",
    "report_gpu()"
   ]
  },
  {
   "cell_type": "markdown",
   "id": "cb2149d5",
   "metadata": {
    "papermill": {
     "duration": 0.011048,
     "end_time": "2022-06-25T19:13:54.384058",
     "exception": false,
     "start_time": "2022-06-25T19:13:54.373010",
     "status": "completed"
    },
    "tags": []
   },
   "source": [
    "Here's `vit_large`. This one is very close to going over the 16280MiB we've got on Kaggle!"
   ]
  },
  {
   "cell_type": "code",
   "execution_count": 13,
   "id": "bf644257",
   "metadata": {
    "execution": {
     "iopub.execute_input": "2022-06-25T19:13:54.408328Z",
     "iopub.status.busy": "2022-06-25T19:13:54.407976Z",
     "iopub.status.idle": "2022-06-25T19:14:44.735650Z",
     "shell.execute_reply": "2022-06-25T19:14:44.734490Z"
    },
    "papermill": {
     "duration": 50.34216,
     "end_time": "2022-06-25T19:14:44.737909",
     "exception": false,
     "start_time": "2022-06-25T19:13:54.395749",
     "status": "completed"
    },
    "tags": []
   },
   "outputs": [
    {
     "data": {
      "text/html": [
       "\n",
       "<style>\n",
       "    /* Turns off some styling */\n",
       "    progress {\n",
       "        /* gets rid of default border in Firefox and Opera. */\n",
       "        border: none;\n",
       "        /* Needs to be in here for Safari polyfill so background images work as expected. */\n",
       "        background-size: auto;\n",
       "    }\n",
       "    .progress-bar-interrupted, .progress-bar-interrupted::-webkit-progress-bar {\n",
       "        background: #F44336;\n",
       "    }\n",
       "</style>\n"
      ],
      "text/plain": [
       "<IPython.core.display.HTML object>"
      ]
     },
     "metadata": {},
     "output_type": "display_data"
    },
    {
     "data": {
      "text/html": [
       "<table border=\"1\" class=\"dataframe\">\n",
       "  <thead>\n",
       "    <tr style=\"text-align: left;\">\n",
       "      <th>epoch</th>\n",
       "      <th>train_loss</th>\n",
       "      <th>valid_loss</th>\n",
       "      <th>error_rate</th>\n",
       "      <th>time</th>\n",
       "    </tr>\n",
       "  </thead>\n",
       "  <tbody>\n",
       "    <tr>\n",
       "      <td>0</td>\n",
       "      <td>0.000000</td>\n",
       "      <td>0.000000</td>\n",
       "      <td>0.000000</td>\n",
       "      <td>00:18</td>\n",
       "    </tr>\n",
       "  </tbody>\n",
       "</table>"
      ],
      "text/plain": [
       "<IPython.core.display.HTML object>"
      ]
     },
     "metadata": {},
     "output_type": "display_data"
    },
    {
     "name": "stdout",
     "output_type": "stream",
     "text": [
      "GPU:0\n",
      "process       2049 uses    15319.000 MB GPU memory\n"
     ]
    }
   ],
   "source": [
    "train('vit_large_patch16_224', 224, epochs=1, accum=2, finetune=False)\n",
    "report_gpu()"
   ]
  },
  {
   "cell_type": "markdown",
   "id": "73b526d1",
   "metadata": {
    "papermill": {
     "duration": 0.011771,
     "end_time": "2022-06-25T19:14:44.761800",
     "exception": false,
     "start_time": "2022-06-25T19:14:44.750029",
     "status": "completed"
    },
    "tags": []
   },
   "source": [
    "Then finally our `swinv2` and `swin` models:"
   ]
  },
  {
   "cell_type": "code",
   "execution_count": 14,
   "id": "4a3491f2",
   "metadata": {
    "execution": {
     "iopub.execute_input": "2022-06-25T19:14:44.787424Z",
     "iopub.status.busy": "2022-06-25T19:14:44.787066Z",
     "iopub.status.idle": "2022-06-25T19:15:31.096196Z",
     "shell.execute_reply": "2022-06-25T19:15:31.095191Z"
    },
    "papermill": {
     "duration": 46.324319,
     "end_time": "2022-06-25T19:15:31.098059",
     "exception": false,
     "start_time": "2022-06-25T19:14:44.773740",
     "status": "completed"
    },
    "tags": []
   },
   "outputs": [
    {
     "name": "stderr",
     "output_type": "stream",
     "text": [
      "/opt/conda/lib/python3.7/site-packages/torch/functional.py:568: UserWarning: torch.meshgrid: in an upcoming release, it will be required to pass the indexing argument. (Triggered internally at  /usr/local/src/pytorch/aten/src/ATen/native/TensorShape.cpp:2227.)\n",
      "  return _VF.meshgrid(tensors, **kwargs)  # type: ignore[attr-defined]\n",
      "Downloading: \"https://github.com/SwinTransformer/storage/releases/download/v2.0.0/swinv2_large_patch4_window12_192_22k.pth\" to /root/.cache/torch/hub/checkpoints/swinv2_large_patch4_window12_192_22k.pth\n"
     ]
    },
    {
     "data": {
      "text/html": [
       "\n",
       "<style>\n",
       "    /* Turns off some styling */\n",
       "    progress {\n",
       "        /* gets rid of default border in Firefox and Opera. */\n",
       "        border: none;\n",
       "        /* Needs to be in here for Safari polyfill so background images work as expected. */\n",
       "        background-size: auto;\n",
       "    }\n",
       "    .progress-bar-interrupted, .progress-bar-interrupted::-webkit-progress-bar {\n",
       "        background: #F44336;\n",
       "    }\n",
       "</style>\n"
      ],
      "text/plain": [
       "<IPython.core.display.HTML object>"
      ]
     },
     "metadata": {},
     "output_type": "display_data"
    },
    {
     "data": {
      "text/html": [
       "<table border=\"1\" class=\"dataframe\">\n",
       "  <thead>\n",
       "    <tr style=\"text-align: left;\">\n",
       "      <th>epoch</th>\n",
       "      <th>train_loss</th>\n",
       "      <th>valid_loss</th>\n",
       "      <th>error_rate</th>\n",
       "      <th>time</th>\n",
       "    </tr>\n",
       "  </thead>\n",
       "  <tbody>\n",
       "    <tr>\n",
       "      <td>0</td>\n",
       "      <td>0.000000</td>\n",
       "      <td>0.000000</td>\n",
       "      <td>0.000000</td>\n",
       "      <td>00:12</td>\n",
       "    </tr>\n",
       "  </tbody>\n",
       "</table>"
      ],
      "text/plain": [
       "<IPython.core.display.HTML object>"
      ]
     },
     "metadata": {},
     "output_type": "display_data"
    },
    {
     "name": "stdout",
     "output_type": "stream",
     "text": [
      "GPU:0\n",
      "process       2049 uses    13483.000 MB GPU memory\n"
     ]
    }
   ],
   "source": [
    "train('swinv2_large_window12_192_22k', 192, epochs=1, accum=2, finetune=False)\n",
    "report_gpu()"
   ]
  },
  {
   "cell_type": "code",
   "execution_count": 15,
   "id": "17592aea",
   "metadata": {
    "execution": {
     "iopub.execute_input": "2022-06-25T19:15:31.124475Z",
     "iopub.status.busy": "2022-06-25T19:15:31.124086Z",
     "iopub.status.idle": "2022-06-25T19:15:59.748120Z",
     "shell.execute_reply": "2022-06-25T19:15:59.746988Z"
    },
    "papermill": {
     "duration": 28.639226,
     "end_time": "2022-06-25T19:15:59.750124",
     "exception": false,
     "start_time": "2022-06-25T19:15:31.110898",
     "status": "completed"
    },
    "tags": []
   },
   "outputs": [
    {
     "name": "stderr",
     "output_type": "stream",
     "text": [
      "Downloading: \"https://github.com/SwinTransformer/storage/releases/download/v1.0.0/swin_large_patch4_window7_224_22kto1k.pth\" to /root/.cache/torch/hub/checkpoints/swin_large_patch4_window7_224_22kto1k.pth\n"
     ]
    },
    {
     "data": {
      "text/html": [
       "\n",
       "<style>\n",
       "    /* Turns off some styling */\n",
       "    progress {\n",
       "        /* gets rid of default border in Firefox and Opera. */\n",
       "        border: none;\n",
       "        /* Needs to be in here for Safari polyfill so background images work as expected. */\n",
       "        background-size: auto;\n",
       "    }\n",
       "    .progress-bar-interrupted, .progress-bar-interrupted::-webkit-progress-bar {\n",
       "        background: #F44336;\n",
       "    }\n",
       "</style>\n"
      ],
      "text/plain": [
       "<IPython.core.display.HTML object>"
      ]
     },
     "metadata": {},
     "output_type": "display_data"
    },
    {
     "data": {
      "text/html": [
       "<table border=\"1\" class=\"dataframe\">\n",
       "  <thead>\n",
       "    <tr style=\"text-align: left;\">\n",
       "      <th>epoch</th>\n",
       "      <th>train_loss</th>\n",
       "      <th>valid_loss</th>\n",
       "      <th>error_rate</th>\n",
       "      <th>time</th>\n",
       "    </tr>\n",
       "  </thead>\n",
       "  <tbody>\n",
       "    <tr>\n",
       "      <td>0</td>\n",
       "      <td>0.000000</td>\n",
       "      <td>0.000000</td>\n",
       "      <td>0.000000</td>\n",
       "      <td>00:13</td>\n",
       "    </tr>\n",
       "  </tbody>\n",
       "</table>"
      ],
      "text/plain": [
       "<IPython.core.display.HTML object>"
      ]
     },
     "metadata": {},
     "output_type": "display_data"
    },
    {
     "name": "stdout",
     "output_type": "stream",
     "text": [
      "GPU:0\n",
      "process       2049 uses    11827.000 MB GPU memory\n"
     ]
    }
   ],
   "source": [
    "train('swin_large_patch4_window7_224', 224, epochs=1, accum=2, finetune=False)\n",
    "report_gpu()"
   ]
  },
  {
   "cell_type": "markdown",
   "id": "453902f3",
   "metadata": {
    "papermill": {
     "duration": 0.012734,
     "end_time": "2022-06-25T19:15:59.776109",
     "exception": false,
     "start_time": "2022-06-25T19:15:59.763375",
     "status": "completed"
    },
    "tags": []
   },
   "source": [
    "## Running the models"
   ]
  },
  {
   "cell_type": "markdown",
   "id": "0c865112",
   "metadata": {
    "papermill": {
     "duration": 0.012808,
     "end_time": "2022-06-25T19:15:59.802076",
     "exception": false,
     "start_time": "2022-06-25T19:15:59.789268",
     "status": "completed"
    },
    "tags": []
   },
   "source": [
    "Using the previous notebook, I tried a bunch of different architectures and preprocessing approaches on small models, and picked a few which looked good. We'll using a `dict` to list our the preprocessing approaches we'll use for each architecture of interest based on that analysis:"
   ]
  },
  {
   "cell_type": "code",
   "execution_count": 16,
   "id": "e8b59ef5",
   "metadata": {
    "execution": {
     "iopub.execute_input": "2022-06-25T19:15:59.830124Z",
     "iopub.status.busy": "2022-06-25T19:15:59.829768Z",
     "iopub.status.idle": "2022-06-25T19:15:59.834409Z",
     "shell.execute_reply": "2022-06-25T19:15:59.833656Z"
    },
    "papermill": {
     "duration": 0.020348,
     "end_time": "2022-06-25T19:15:59.835991",
     "exception": false,
     "start_time": "2022-06-25T19:15:59.815643",
     "status": "completed"
    },
    "tags": []
   },
   "outputs": [],
   "source": [
    "res = 640,480"
   ]
  },
  {
   "cell_type": "code",
   "execution_count": 17,
   "id": "29bf75b6",
   "metadata": {
    "execution": {
     "iopub.execute_input": "2022-06-25T19:15:59.863303Z",
     "iopub.status.busy": "2022-06-25T19:15:59.862998Z",
     "iopub.status.idle": "2022-06-25T19:15:59.869077Z",
     "shell.execute_reply": "2022-06-25T19:15:59.868344Z"
    },
    "papermill": {
     "duration": 0.02142,
     "end_time": "2022-06-25T19:15:59.870736",
     "exception": false,
     "start_time": "2022-06-25T19:15:59.849316",
     "status": "completed"
    },
    "tags": []
   },
   "outputs": [],
   "source": [
    "models = {\n",
    "    'convnext_large_in22k': {\n",
    "        (Resize(res), (320,224)),\n",
    "    }, 'vit_large_patch16_224': {\n",
    "        (Resize(480, method='squish'), 224),\n",
    "        (Resize(res), 224),\n",
    "    }, 'swinv2_large_window12_192_22k': {\n",
    "        (Resize(480, method='squish'), 192),\n",
    "        (Resize(res), 192),\n",
    "    }, 'swin_large_patch4_window7_224': {\n",
    "        (Resize(res), 224),\n",
    "    }\n",
    "}"
   ]
  },
  {
   "cell_type": "markdown",
   "id": "0c8744be",
   "metadata": {
    "papermill": {
     "duration": 0.013182,
     "end_time": "2022-06-25T19:15:59.899926",
     "exception": false,
     "start_time": "2022-06-25T19:15:59.886744",
     "status": "completed"
    },
    "tags": []
   },
   "source": [
    "We'll need to switch to using the full training set of course!"
   ]
  },
  {
   "cell_type": "code",
   "execution_count": 18,
   "id": "440eda94",
   "metadata": {
    "execution": {
     "iopub.execute_input": "2022-06-25T19:15:59.929005Z",
     "iopub.status.busy": "2022-06-25T19:15:59.928671Z",
     "iopub.status.idle": "2022-06-25T19:15:59.934413Z",
     "shell.execute_reply": "2022-06-25T19:15:59.933693Z"
    },
    "papermill": {
     "duration": 0.022254,
     "end_time": "2022-06-25T19:15:59.936159",
     "exception": false,
     "start_time": "2022-06-25T19:15:59.913905",
     "status": "completed"
    },
    "tags": []
   },
   "outputs": [],
   "source": [
    "trn_path = path/'train_images'"
   ]
  },
  {
   "cell_type": "markdown",
   "id": "241540db",
   "metadata": {
    "papermill": {
     "duration": 0.013177,
     "end_time": "2022-06-25T19:15:59.962596",
     "exception": false,
     "start_time": "2022-06-25T19:15:59.949419",
     "status": "completed"
    },
    "tags": []
   },
   "source": [
    "Now we're ready to train all these models. Remember that each is using a different training and validation set, so the results aren't directly comparable.\n",
    "\n",
    "We'll append each set of TTA predictions on the test set into a list called `tta_res`."
   ]
  },
  {
   "cell_type": "code",
   "execution_count": 19,
   "id": "e0fdecfe",
   "metadata": {
    "execution": {
     "iopub.execute_input": "2022-06-25T19:15:59.991100Z",
     "iopub.status.busy": "2022-06-25T19:15:59.990371Z",
     "iopub.status.idle": "2022-06-26T04:54:49.704735Z",
     "shell.execute_reply": "2022-06-26T04:54:49.703526Z"
    },
    "papermill": {
     "duration": 34729.730586,
     "end_time": "2022-06-26T04:54:49.706861",
     "exception": false,
     "start_time": "2022-06-25T19:15:59.976275",
     "status": "completed"
    },
    "tags": []
   },
   "outputs": [
    {
     "name": "stdout",
     "output_type": "stream",
     "text": [
      "--- convnext_large_in22k\n",
      "(320, 224)\n",
      "Resize -- {'size': (480, 640), 'method': 'crop', 'pad_mode': 'reflection', 'resamples': (<Resampling.BILINEAR: 2>, <Resampling.NEAREST: 0>), 'p': 1.0}\n"
     ]
    },
    {
     "data": {
      "text/html": [
       "\n",
       "<style>\n",
       "    /* Turns off some styling */\n",
       "    progress {\n",
       "        /* gets rid of default border in Firefox and Opera. */\n",
       "        border: none;\n",
       "        /* Needs to be in here for Safari polyfill so background images work as expected. */\n",
       "        background-size: auto;\n",
       "    }\n",
       "    .progress-bar-interrupted, .progress-bar-interrupted::-webkit-progress-bar {\n",
       "        background: #F44336;\n",
       "    }\n",
       "</style>\n"
      ],
      "text/plain": [
       "<IPython.core.display.HTML object>"
      ]
     },
     "metadata": {},
     "output_type": "display_data"
    },
    {
     "data": {
      "text/html": [
       "<table border=\"1\" class=\"dataframe\">\n",
       "  <thead>\n",
       "    <tr style=\"text-align: left;\">\n",
       "      <th>epoch</th>\n",
       "      <th>train_loss</th>\n",
       "      <th>valid_loss</th>\n",
       "      <th>error_rate</th>\n",
       "      <th>time</th>\n",
       "    </tr>\n",
       "  </thead>\n",
       "  <tbody>\n",
       "    <tr>\n",
       "      <td>0</td>\n",
       "      <td>1.010700</td>\n",
       "      <td>0.598994</td>\n",
       "      <td>0.186929</td>\n",
       "      <td>05:38</td>\n",
       "    </tr>\n",
       "  </tbody>\n",
       "</table>"
      ],
      "text/plain": [
       "<IPython.core.display.HTML object>"
      ]
     },
     "metadata": {},
     "output_type": "display_data"
    },
    {
     "data": {
      "text/html": [
       "\n",
       "<style>\n",
       "    /* Turns off some styling */\n",
       "    progress {\n",
       "        /* gets rid of default border in Firefox and Opera. */\n",
       "        border: none;\n",
       "        /* Needs to be in here for Safari polyfill so background images work as expected. */\n",
       "        background-size: auto;\n",
       "    }\n",
       "    .progress-bar-interrupted, .progress-bar-interrupted::-webkit-progress-bar {\n",
       "        background: #F44336;\n",
       "    }\n",
       "</style>\n"
      ],
      "text/plain": [
       "<IPython.core.display.HTML object>"
      ]
     },
     "metadata": {},
     "output_type": "display_data"
    },
    {
     "data": {
      "text/html": [
       "<table border=\"1\" class=\"dataframe\">\n",
       "  <thead>\n",
       "    <tr style=\"text-align: left;\">\n",
       "      <th>epoch</th>\n",
       "      <th>train_loss</th>\n",
       "      <th>valid_loss</th>\n",
       "      <th>error_rate</th>\n",
       "      <th>time</th>\n",
       "    </tr>\n",
       "  </thead>\n",
       "  <tbody>\n",
       "    <tr>\n",
       "      <td>0</td>\n",
       "      <td>0.506983</td>\n",
       "      <td>0.267816</td>\n",
       "      <td>0.083133</td>\n",
       "      <td>07:46</td>\n",
       "    </tr>\n",
       "    <tr>\n",
       "      <td>1</td>\n",
       "      <td>0.388234</td>\n",
       "      <td>0.294790</td>\n",
       "      <td>0.091302</td>\n",
       "      <td>07:47</td>\n",
       "    </tr>\n",
       "    <tr>\n",
       "      <td>2</td>\n",
       "      <td>0.332174</td>\n",
       "      <td>0.222848</td>\n",
       "      <td>0.057665</td>\n",
       "      <td>07:47</td>\n",
       "    </tr>\n",
       "    <tr>\n",
       "      <td>3</td>\n",
       "      <td>0.262895</td>\n",
       "      <td>0.178798</td>\n",
       "      <td>0.047093</td>\n",
       "      <td>07:47</td>\n",
       "    </tr>\n",
       "    <tr>\n",
       "      <td>4</td>\n",
       "      <td>0.206449</td>\n",
       "      <td>0.244268</td>\n",
       "      <td>0.066314</td>\n",
       "      <td>07:47</td>\n",
       "    </tr>\n",
       "    <tr>\n",
       "      <td>5</td>\n",
       "      <td>0.173492</td>\n",
       "      <td>0.146667</td>\n",
       "      <td>0.034118</td>\n",
       "      <td>07:47</td>\n",
       "    </tr>\n",
       "    <tr>\n",
       "      <td>6</td>\n",
       "      <td>0.116273</td>\n",
       "      <td>0.159581</td>\n",
       "      <td>0.042287</td>\n",
       "      <td>07:47</td>\n",
       "    </tr>\n",
       "    <tr>\n",
       "      <td>7</td>\n",
       "      <td>0.086210</td>\n",
       "      <td>0.129288</td>\n",
       "      <td>0.030274</td>\n",
       "      <td>07:47</td>\n",
       "    </tr>\n",
       "    <tr>\n",
       "      <td>8</td>\n",
       "      <td>0.072526</td>\n",
       "      <td>0.116327</td>\n",
       "      <td>0.028352</td>\n",
       "      <td>07:47</td>\n",
       "    </tr>\n",
       "    <tr>\n",
       "      <td>9</td>\n",
       "      <td>0.048627</td>\n",
       "      <td>0.119288</td>\n",
       "      <td>0.029793</td>\n",
       "      <td>07:47</td>\n",
       "    </tr>\n",
       "    <tr>\n",
       "      <td>10</td>\n",
       "      <td>0.028672</td>\n",
       "      <td>0.114626</td>\n",
       "      <td>0.027391</td>\n",
       "      <td>07:47</td>\n",
       "    </tr>\n",
       "    <tr>\n",
       "      <td>11</td>\n",
       "      <td>0.023923</td>\n",
       "      <td>0.112289</td>\n",
       "      <td>0.025949</td>\n",
       "      <td>07:47</td>\n",
       "    </tr>\n",
       "  </tbody>\n",
       "</table>"
      ],
      "text/plain": [
       "<IPython.core.display.HTML object>"
      ]
     },
     "metadata": {},
     "output_type": "display_data"
    },
    {
     "data": {
      "text/html": [
       "\n",
       "<style>\n",
       "    /* Turns off some styling */\n",
       "    progress {\n",
       "        /* gets rid of default border in Firefox and Opera. */\n",
       "        border: none;\n",
       "        /* Needs to be in here for Safari polyfill so background images work as expected. */\n",
       "        background-size: auto;\n",
       "    }\n",
       "    .progress-bar-interrupted, .progress-bar-interrupted::-webkit-progress-bar {\n",
       "        background: #F44336;\n",
       "    }\n",
       "</style>\n"
      ],
      "text/plain": [
       "<IPython.core.display.HTML object>"
      ]
     },
     "metadata": {},
     "output_type": "display_data"
    },
    {
     "data": {
      "text/html": [
       "\n",
       "    <div>\n",
       "      <progress value='0' class='' max='12' style='width:300px; height:20px; vertical-align: middle;'></progress>\n",
       "      \n",
       "    </div>\n",
       "    \n"
      ],
      "text/plain": [
       "<IPython.core.display.HTML object>"
      ]
     },
     "metadata": {},
     "output_type": "display_data"
    },
    {
     "data": {
      "text/html": [
       "\n",
       "<style>\n",
       "    /* Turns off some styling */\n",
       "    progress {\n",
       "        /* gets rid of default border in Firefox and Opera. */\n",
       "        border: none;\n",
       "        /* Needs to be in here for Safari polyfill so background images work as expected. */\n",
       "        background-size: auto;\n",
       "    }\n",
       "    .progress-bar-interrupted, .progress-bar-interrupted::-webkit-progress-bar {\n",
       "        background: #F44336;\n",
       "    }\n",
       "</style>\n"
      ],
      "text/plain": [
       "<IPython.core.display.HTML object>"
      ]
     },
     "metadata": {},
     "output_type": "display_data"
    },
    {
     "data": {
      "text/html": [],
      "text/plain": [
       "<IPython.core.display.HTML object>"
      ]
     },
     "metadata": {},
     "output_type": "display_data"
    },
    {
     "name": "stdout",
     "output_type": "stream",
     "text": [
      "--- vit_large_patch16_224\n",
      "224\n",
      "Resize -- {'size': (480, 640), 'method': 'crop', 'pad_mode': 'reflection', 'resamples': (<Resampling.BILINEAR: 2>, <Resampling.NEAREST: 0>), 'p': 1.0}\n"
     ]
    },
    {
     "data": {
      "text/html": [
       "\n",
       "<style>\n",
       "    /* Turns off some styling */\n",
       "    progress {\n",
       "        /* gets rid of default border in Firefox and Opera. */\n",
       "        border: none;\n",
       "        /* Needs to be in here for Safari polyfill so background images work as expected. */\n",
       "        background-size: auto;\n",
       "    }\n",
       "    .progress-bar-interrupted, .progress-bar-interrupted::-webkit-progress-bar {\n",
       "        background: #F44336;\n",
       "    }\n",
       "</style>\n"
      ],
      "text/plain": [
       "<IPython.core.display.HTML object>"
      ]
     },
     "metadata": {},
     "output_type": "display_data"
    },
    {
     "data": {
      "text/html": [
       "<table border=\"1\" class=\"dataframe\">\n",
       "  <thead>\n",
       "    <tr style=\"text-align: left;\">\n",
       "      <th>epoch</th>\n",
       "      <th>train_loss</th>\n",
       "      <th>valid_loss</th>\n",
       "      <th>error_rate</th>\n",
       "      <th>time</th>\n",
       "    </tr>\n",
       "  </thead>\n",
       "  <tbody>\n",
       "    <tr>\n",
       "      <td>0</td>\n",
       "      <td>0.991616</td>\n",
       "      <td>0.767140</td>\n",
       "      <td>0.249399</td>\n",
       "      <td>06:23</td>\n",
       "    </tr>\n",
       "  </tbody>\n",
       "</table>"
      ],
      "text/plain": [
       "<IPython.core.display.HTML object>"
      ]
     },
     "metadata": {},
     "output_type": "display_data"
    },
    {
     "data": {
      "text/html": [
       "\n",
       "<style>\n",
       "    /* Turns off some styling */\n",
       "    progress {\n",
       "        /* gets rid of default border in Firefox and Opera. */\n",
       "        border: none;\n",
       "        /* Needs to be in here for Safari polyfill so background images work as expected. */\n",
       "        background-size: auto;\n",
       "    }\n",
       "    .progress-bar-interrupted, .progress-bar-interrupted::-webkit-progress-bar {\n",
       "        background: #F44336;\n",
       "    }\n",
       "</style>\n"
      ],
      "text/plain": [
       "<IPython.core.display.HTML object>"
      ]
     },
     "metadata": {},
     "output_type": "display_data"
    },
    {
     "data": {
      "text/html": [
       "<table border=\"1\" class=\"dataframe\">\n",
       "  <thead>\n",
       "    <tr style=\"text-align: left;\">\n",
       "      <th>epoch</th>\n",
       "      <th>train_loss</th>\n",
       "      <th>valid_loss</th>\n",
       "      <th>error_rate</th>\n",
       "      <th>time</th>\n",
       "    </tr>\n",
       "  </thead>\n",
       "  <tbody>\n",
       "    <tr>\n",
       "      <td>0</td>\n",
       "      <td>0.459322</td>\n",
       "      <td>0.260450</td>\n",
       "      <td>0.078808</td>\n",
       "      <td>08:48</td>\n",
       "    </tr>\n",
       "    <tr>\n",
       "      <td>1</td>\n",
       "      <td>0.366065</td>\n",
       "      <td>0.284986</td>\n",
       "      <td>0.082172</td>\n",
       "      <td>08:48</td>\n",
       "    </tr>\n",
       "    <tr>\n",
       "      <td>2</td>\n",
       "      <td>0.365747</td>\n",
       "      <td>0.380611</td>\n",
       "      <td>0.102835</td>\n",
       "      <td>08:47</td>\n",
       "    </tr>\n",
       "    <tr>\n",
       "      <td>3</td>\n",
       "      <td>0.311918</td>\n",
       "      <td>0.207673</td>\n",
       "      <td>0.058145</td>\n",
       "      <td>08:47</td>\n",
       "    </tr>\n",
       "    <tr>\n",
       "      <td>4</td>\n",
       "      <td>0.231974</td>\n",
       "      <td>0.288665</td>\n",
       "      <td>0.081211</td>\n",
       "      <td>08:47</td>\n",
       "    </tr>\n",
       "    <tr>\n",
       "      <td>5</td>\n",
       "      <td>0.158551</td>\n",
       "      <td>0.193389</td>\n",
       "      <td>0.045171</td>\n",
       "      <td>08:47</td>\n",
       "    </tr>\n",
       "    <tr>\n",
       "      <td>6</td>\n",
       "      <td>0.110487</td>\n",
       "      <td>0.148850</td>\n",
       "      <td>0.040365</td>\n",
       "      <td>08:47</td>\n",
       "    </tr>\n",
       "    <tr>\n",
       "      <td>7</td>\n",
       "      <td>0.069322</td>\n",
       "      <td>0.118474</td>\n",
       "      <td>0.025949</td>\n",
       "      <td>08:47</td>\n",
       "    </tr>\n",
       "    <tr>\n",
       "      <td>8</td>\n",
       "      <td>0.056186</td>\n",
       "      <td>0.110212</td>\n",
       "      <td>0.027391</td>\n",
       "      <td>08:47</td>\n",
       "    </tr>\n",
       "    <tr>\n",
       "      <td>9</td>\n",
       "      <td>0.041977</td>\n",
       "      <td>0.089121</td>\n",
       "      <td>0.018260</td>\n",
       "      <td>08:48</td>\n",
       "    </tr>\n",
       "    <tr>\n",
       "      <td>10</td>\n",
       "      <td>0.036275</td>\n",
       "      <td>0.097444</td>\n",
       "      <td>0.022585</td>\n",
       "      <td>08:47</td>\n",
       "    </tr>\n",
       "    <tr>\n",
       "      <td>11</td>\n",
       "      <td>0.029023</td>\n",
       "      <td>0.094394</td>\n",
       "      <td>0.021144</td>\n",
       "      <td>08:48</td>\n",
       "    </tr>\n",
       "  </tbody>\n",
       "</table>"
      ],
      "text/plain": [
       "<IPython.core.display.HTML object>"
      ]
     },
     "metadata": {},
     "output_type": "display_data"
    },
    {
     "data": {
      "text/html": [
       "\n",
       "<style>\n",
       "    /* Turns off some styling */\n",
       "    progress {\n",
       "        /* gets rid of default border in Firefox and Opera. */\n",
       "        border: none;\n",
       "        /* Needs to be in here for Safari polyfill so background images work as expected. */\n",
       "        background-size: auto;\n",
       "    }\n",
       "    .progress-bar-interrupted, .progress-bar-interrupted::-webkit-progress-bar {\n",
       "        background: #F44336;\n",
       "    }\n",
       "</style>\n"
      ],
      "text/plain": [
       "<IPython.core.display.HTML object>"
      ]
     },
     "metadata": {},
     "output_type": "display_data"
    },
    {
     "data": {
      "text/html": [
       "\n",
       "    <div>\n",
       "      <progress value='0' class='' max='12' style='width:300px; height:20px; vertical-align: middle;'></progress>\n",
       "      \n",
       "    </div>\n",
       "    \n"
      ],
      "text/plain": [
       "<IPython.core.display.HTML object>"
      ]
     },
     "metadata": {},
     "output_type": "display_data"
    },
    {
     "data": {
      "text/html": [
       "\n",
       "<style>\n",
       "    /* Turns off some styling */\n",
       "    progress {\n",
       "        /* gets rid of default border in Firefox and Opera. */\n",
       "        border: none;\n",
       "        /* Needs to be in here for Safari polyfill so background images work as expected. */\n",
       "        background-size: auto;\n",
       "    }\n",
       "    .progress-bar-interrupted, .progress-bar-interrupted::-webkit-progress-bar {\n",
       "        background: #F44336;\n",
       "    }\n",
       "</style>\n"
      ],
      "text/plain": [
       "<IPython.core.display.HTML object>"
      ]
     },
     "metadata": {},
     "output_type": "display_data"
    },
    {
     "data": {
      "text/html": [],
      "text/plain": [
       "<IPython.core.display.HTML object>"
      ]
     },
     "metadata": {},
     "output_type": "display_data"
    },
    {
     "name": "stdout",
     "output_type": "stream",
     "text": [
      "--- vit_large_patch16_224\n",
      "224\n",
      "Resize -- {'size': (480, 480), 'method': 'squish', 'pad_mode': 'reflection', 'resamples': (<Resampling.BILINEAR: 2>, <Resampling.NEAREST: 0>), 'p': 1.0}\n"
     ]
    },
    {
     "data": {
      "text/html": [
       "\n",
       "<style>\n",
       "    /* Turns off some styling */\n",
       "    progress {\n",
       "        /* gets rid of default border in Firefox and Opera. */\n",
       "        border: none;\n",
       "        /* Needs to be in here for Safari polyfill so background images work as expected. */\n",
       "        background-size: auto;\n",
       "    }\n",
       "    .progress-bar-interrupted, .progress-bar-interrupted::-webkit-progress-bar {\n",
       "        background: #F44336;\n",
       "    }\n",
       "</style>\n"
      ],
      "text/plain": [
       "<IPython.core.display.HTML object>"
      ]
     },
     "metadata": {},
     "output_type": "display_data"
    },
    {
     "data": {
      "text/html": [
       "<table border=\"1\" class=\"dataframe\">\n",
       "  <thead>\n",
       "    <tr style=\"text-align: left;\">\n",
       "      <th>epoch</th>\n",
       "      <th>train_loss</th>\n",
       "      <th>valid_loss</th>\n",
       "      <th>error_rate</th>\n",
       "      <th>time</th>\n",
       "    </tr>\n",
       "  </thead>\n",
       "  <tbody>\n",
       "    <tr>\n",
       "      <td>0</td>\n",
       "      <td>1.008765</td>\n",
       "      <td>0.662441</td>\n",
       "      <td>0.202787</td>\n",
       "      <td>06:20</td>\n",
       "    </tr>\n",
       "  </tbody>\n",
       "</table>"
      ],
      "text/plain": [
       "<IPython.core.display.HTML object>"
      ]
     },
     "metadata": {},
     "output_type": "display_data"
    },
    {
     "data": {
      "text/html": [
       "\n",
       "<style>\n",
       "    /* Turns off some styling */\n",
       "    progress {\n",
       "        /* gets rid of default border in Firefox and Opera. */\n",
       "        border: none;\n",
       "        /* Needs to be in here for Safari polyfill so background images work as expected. */\n",
       "        background-size: auto;\n",
       "    }\n",
       "    .progress-bar-interrupted, .progress-bar-interrupted::-webkit-progress-bar {\n",
       "        background: #F44336;\n",
       "    }\n",
       "</style>\n"
      ],
      "text/plain": [
       "<IPython.core.display.HTML object>"
      ]
     },
     "metadata": {},
     "output_type": "display_data"
    },
    {
     "data": {
      "text/html": [
       "<table border=\"1\" class=\"dataframe\">\n",
       "  <thead>\n",
       "    <tr style=\"text-align: left;\">\n",
       "      <th>epoch</th>\n",
       "      <th>train_loss</th>\n",
       "      <th>valid_loss</th>\n",
       "      <th>error_rate</th>\n",
       "      <th>time</th>\n",
       "    </tr>\n",
       "  </thead>\n",
       "  <tbody>\n",
       "    <tr>\n",
       "      <td>0</td>\n",
       "      <td>0.445434</td>\n",
       "      <td>0.306557</td>\n",
       "      <td>0.093705</td>\n",
       "      <td>08:45</td>\n",
       "    </tr>\n",
       "    <tr>\n",
       "      <td>1</td>\n",
       "      <td>0.332869</td>\n",
       "      <td>0.276180</td>\n",
       "      <td>0.079289</td>\n",
       "      <td>08:46</td>\n",
       "    </tr>\n",
       "    <tr>\n",
       "      <td>2</td>\n",
       "      <td>0.345460</td>\n",
       "      <td>0.364125</td>\n",
       "      <td>0.094666</td>\n",
       "      <td>08:45</td>\n",
       "    </tr>\n",
       "    <tr>\n",
       "      <td>3</td>\n",
       "      <td>0.284179</td>\n",
       "      <td>0.283419</td>\n",
       "      <td>0.073042</td>\n",
       "      <td>08:45</td>\n",
       "    </tr>\n",
       "    <tr>\n",
       "      <td>4</td>\n",
       "      <td>0.218994</td>\n",
       "      <td>0.214386</td>\n",
       "      <td>0.055742</td>\n",
       "      <td>08:46</td>\n",
       "    </tr>\n",
       "    <tr>\n",
       "      <td>5</td>\n",
       "      <td>0.161811</td>\n",
       "      <td>0.200889</td>\n",
       "      <td>0.051898</td>\n",
       "      <td>08:45</td>\n",
       "    </tr>\n",
       "    <tr>\n",
       "      <td>6</td>\n",
       "      <td>0.139510</td>\n",
       "      <td>0.168247</td>\n",
       "      <td>0.039885</td>\n",
       "      <td>08:45</td>\n",
       "    </tr>\n",
       "    <tr>\n",
       "      <td>7</td>\n",
       "      <td>0.084045</td>\n",
       "      <td>0.122096</td>\n",
       "      <td>0.033638</td>\n",
       "      <td>08:45</td>\n",
       "    </tr>\n",
       "    <tr>\n",
       "      <td>8</td>\n",
       "      <td>0.062195</td>\n",
       "      <td>0.119437</td>\n",
       "      <td>0.032677</td>\n",
       "      <td>08:46</td>\n",
       "    </tr>\n",
       "    <tr>\n",
       "      <td>9</td>\n",
       "      <td>0.046412</td>\n",
       "      <td>0.098837</td>\n",
       "      <td>0.023066</td>\n",
       "      <td>08:46</td>\n",
       "    </tr>\n",
       "    <tr>\n",
       "      <td>10</td>\n",
       "      <td>0.034085</td>\n",
       "      <td>0.089460</td>\n",
       "      <td>0.022105</td>\n",
       "      <td>08:46</td>\n",
       "    </tr>\n",
       "    <tr>\n",
       "      <td>11</td>\n",
       "      <td>0.023132</td>\n",
       "      <td>0.088250</td>\n",
       "      <td>0.021624</td>\n",
       "      <td>08:46</td>\n",
       "    </tr>\n",
       "  </tbody>\n",
       "</table>"
      ],
      "text/plain": [
       "<IPython.core.display.HTML object>"
      ]
     },
     "metadata": {},
     "output_type": "display_data"
    },
    {
     "data": {
      "text/html": [
       "\n",
       "<style>\n",
       "    /* Turns off some styling */\n",
       "    progress {\n",
       "        /* gets rid of default border in Firefox and Opera. */\n",
       "        border: none;\n",
       "        /* Needs to be in here for Safari polyfill so background images work as expected. */\n",
       "        background-size: auto;\n",
       "    }\n",
       "    .progress-bar-interrupted, .progress-bar-interrupted::-webkit-progress-bar {\n",
       "        background: #F44336;\n",
       "    }\n",
       "</style>\n"
      ],
      "text/plain": [
       "<IPython.core.display.HTML object>"
      ]
     },
     "metadata": {},
     "output_type": "display_data"
    },
    {
     "data": {
      "text/html": [
       "\n",
       "    <div>\n",
       "      <progress value='0' class='' max='12' style='width:300px; height:20px; vertical-align: middle;'></progress>\n",
       "      \n",
       "    </div>\n",
       "    \n"
      ],
      "text/plain": [
       "<IPython.core.display.HTML object>"
      ]
     },
     "metadata": {},
     "output_type": "display_data"
    },
    {
     "data": {
      "text/html": [
       "\n",
       "<style>\n",
       "    /* Turns off some styling */\n",
       "    progress {\n",
       "        /* gets rid of default border in Firefox and Opera. */\n",
       "        border: none;\n",
       "        /* Needs to be in here for Safari polyfill so background images work as expected. */\n",
       "        background-size: auto;\n",
       "    }\n",
       "    .progress-bar-interrupted, .progress-bar-interrupted::-webkit-progress-bar {\n",
       "        background: #F44336;\n",
       "    }\n",
       "</style>\n"
      ],
      "text/plain": [
       "<IPython.core.display.HTML object>"
      ]
     },
     "metadata": {},
     "output_type": "display_data"
    },
    {
     "data": {
      "text/html": [],
      "text/plain": [
       "<IPython.core.display.HTML object>"
      ]
     },
     "metadata": {},
     "output_type": "display_data"
    },
    {
     "name": "stdout",
     "output_type": "stream",
     "text": [
      "--- swinv2_large_window12_192_22k\n",
      "192\n",
      "Resize -- {'size': (480, 480), 'method': 'squish', 'pad_mode': 'reflection', 'resamples': (<Resampling.BILINEAR: 2>, <Resampling.NEAREST: 0>), 'p': 1.0}\n"
     ]
    },
    {
     "data": {
      "text/html": [
       "\n",
       "<style>\n",
       "    /* Turns off some styling */\n",
       "    progress {\n",
       "        /* gets rid of default border in Firefox and Opera. */\n",
       "        border: none;\n",
       "        /* Needs to be in here for Safari polyfill so background images work as expected. */\n",
       "        background-size: auto;\n",
       "    }\n",
       "    .progress-bar-interrupted, .progress-bar-interrupted::-webkit-progress-bar {\n",
       "        background: #F44336;\n",
       "    }\n",
       "</style>\n"
      ],
      "text/plain": [
       "<IPython.core.display.HTML object>"
      ]
     },
     "metadata": {},
     "output_type": "display_data"
    },
    {
     "data": {
      "text/html": [
       "<table border=\"1\" class=\"dataframe\">\n",
       "  <thead>\n",
       "    <tr style=\"text-align: left;\">\n",
       "      <th>epoch</th>\n",
       "      <th>train_loss</th>\n",
       "      <th>valid_loss</th>\n",
       "      <th>error_rate</th>\n",
       "      <th>time</th>\n",
       "    </tr>\n",
       "  </thead>\n",
       "  <tbody>\n",
       "    <tr>\n",
       "      <td>0</td>\n",
       "      <td>1.041131</td>\n",
       "      <td>0.611948</td>\n",
       "      <td>0.198943</td>\n",
       "      <td>04:28</td>\n",
       "    </tr>\n",
       "  </tbody>\n",
       "</table>"
      ],
      "text/plain": [
       "<IPython.core.display.HTML object>"
      ]
     },
     "metadata": {},
     "output_type": "display_data"
    },
    {
     "data": {
      "text/html": [
       "\n",
       "<style>\n",
       "    /* Turns off some styling */\n",
       "    progress {\n",
       "        /* gets rid of default border in Firefox and Opera. */\n",
       "        border: none;\n",
       "        /* Needs to be in here for Safari polyfill so background images work as expected. */\n",
       "        background-size: auto;\n",
       "    }\n",
       "    .progress-bar-interrupted, .progress-bar-interrupted::-webkit-progress-bar {\n",
       "        background: #F44336;\n",
       "    }\n",
       "</style>\n"
      ],
      "text/plain": [
       "<IPython.core.display.HTML object>"
      ]
     },
     "metadata": {},
     "output_type": "display_data"
    },
    {
     "data": {
      "text/html": [
       "<table border=\"1\" class=\"dataframe\">\n",
       "  <thead>\n",
       "    <tr style=\"text-align: left;\">\n",
       "      <th>epoch</th>\n",
       "      <th>train_loss</th>\n",
       "      <th>valid_loss</th>\n",
       "      <th>error_rate</th>\n",
       "      <th>time</th>\n",
       "    </tr>\n",
       "  </thead>\n",
       "  <tbody>\n",
       "    <tr>\n",
       "      <td>0</td>\n",
       "      <td>0.490235</td>\n",
       "      <td>0.275142</td>\n",
       "      <td>0.086977</td>\n",
       "      <td>05:45</td>\n",
       "    </tr>\n",
       "    <tr>\n",
       "      <td>1</td>\n",
       "      <td>0.376955</td>\n",
       "      <td>0.331791</td>\n",
       "      <td>0.084575</td>\n",
       "      <td>05:44</td>\n",
       "    </tr>\n",
       "    <tr>\n",
       "      <td>2</td>\n",
       "      <td>0.394706</td>\n",
       "      <td>0.309648</td>\n",
       "      <td>0.090822</td>\n",
       "      <td>05:45</td>\n",
       "    </tr>\n",
       "    <tr>\n",
       "      <td>3</td>\n",
       "      <td>0.285373</td>\n",
       "      <td>0.237213</td>\n",
       "      <td>0.069197</td>\n",
       "      <td>05:45</td>\n",
       "    </tr>\n",
       "    <tr>\n",
       "      <td>4</td>\n",
       "      <td>0.247237</td>\n",
       "      <td>0.226581</td>\n",
       "      <td>0.065353</td>\n",
       "      <td>05:45</td>\n",
       "    </tr>\n",
       "    <tr>\n",
       "      <td>5</td>\n",
       "      <td>0.178586</td>\n",
       "      <td>0.214078</td>\n",
       "      <td>0.050937</td>\n",
       "      <td>05:46</td>\n",
       "    </tr>\n",
       "    <tr>\n",
       "      <td>6</td>\n",
       "      <td>0.109612</td>\n",
       "      <td>0.127058</td>\n",
       "      <td>0.034599</td>\n",
       "      <td>05:45</td>\n",
       "    </tr>\n",
       "    <tr>\n",
       "      <td>7</td>\n",
       "      <td>0.088564</td>\n",
       "      <td>0.135437</td>\n",
       "      <td>0.030274</td>\n",
       "      <td>05:45</td>\n",
       "    </tr>\n",
       "    <tr>\n",
       "      <td>8</td>\n",
       "      <td>0.054351</td>\n",
       "      <td>0.138880</td>\n",
       "      <td>0.029313</td>\n",
       "      <td>05:48</td>\n",
       "    </tr>\n",
       "    <tr>\n",
       "      <td>9</td>\n",
       "      <td>0.043363</td>\n",
       "      <td>0.116802</td>\n",
       "      <td>0.027391</td>\n",
       "      <td>05:48</td>\n",
       "    </tr>\n",
       "    <tr>\n",
       "      <td>10</td>\n",
       "      <td>0.035346</td>\n",
       "      <td>0.110950</td>\n",
       "      <td>0.023546</td>\n",
       "      <td>05:46</td>\n",
       "    </tr>\n",
       "    <tr>\n",
       "      <td>11</td>\n",
       "      <td>0.030613</td>\n",
       "      <td>0.105288</td>\n",
       "      <td>0.023066</td>\n",
       "      <td>05:46</td>\n",
       "    </tr>\n",
       "  </tbody>\n",
       "</table>"
      ],
      "text/plain": [
       "<IPython.core.display.HTML object>"
      ]
     },
     "metadata": {},
     "output_type": "display_data"
    },
    {
     "data": {
      "text/html": [
       "\n",
       "<style>\n",
       "    /* Turns off some styling */\n",
       "    progress {\n",
       "        /* gets rid of default border in Firefox and Opera. */\n",
       "        border: none;\n",
       "        /* Needs to be in here for Safari polyfill so background images work as expected. */\n",
       "        background-size: auto;\n",
       "    }\n",
       "    .progress-bar-interrupted, .progress-bar-interrupted::-webkit-progress-bar {\n",
       "        background: #F44336;\n",
       "    }\n",
       "</style>\n"
      ],
      "text/plain": [
       "<IPython.core.display.HTML object>"
      ]
     },
     "metadata": {},
     "output_type": "display_data"
    },
    {
     "data": {
      "text/html": [
       "\n",
       "    <div>\n",
       "      <progress value='0' class='' max='12' style='width:300px; height:20px; vertical-align: middle;'></progress>\n",
       "      \n",
       "    </div>\n",
       "    \n"
      ],
      "text/plain": [
       "<IPython.core.display.HTML object>"
      ]
     },
     "metadata": {},
     "output_type": "display_data"
    },
    {
     "data": {
      "text/html": [
       "\n",
       "<style>\n",
       "    /* Turns off some styling */\n",
       "    progress {\n",
       "        /* gets rid of default border in Firefox and Opera. */\n",
       "        border: none;\n",
       "        /* Needs to be in here for Safari polyfill so background images work as expected. */\n",
       "        background-size: auto;\n",
       "    }\n",
       "    .progress-bar-interrupted, .progress-bar-interrupted::-webkit-progress-bar {\n",
       "        background: #F44336;\n",
       "    }\n",
       "</style>\n"
      ],
      "text/plain": [
       "<IPython.core.display.HTML object>"
      ]
     },
     "metadata": {},
     "output_type": "display_data"
    },
    {
     "data": {
      "text/html": [],
      "text/plain": [
       "<IPython.core.display.HTML object>"
      ]
     },
     "metadata": {},
     "output_type": "display_data"
    },
    {
     "name": "stdout",
     "output_type": "stream",
     "text": [
      "--- swinv2_large_window12_192_22k\n",
      "192\n",
      "Resize -- {'size': (480, 640), 'method': 'crop', 'pad_mode': 'reflection', 'resamples': (<Resampling.BILINEAR: 2>, <Resampling.NEAREST: 0>), 'p': 1.0}\n"
     ]
    },
    {
     "data": {
      "text/html": [
       "\n",
       "<style>\n",
       "    /* Turns off some styling */\n",
       "    progress {\n",
       "        /* gets rid of default border in Firefox and Opera. */\n",
       "        border: none;\n",
       "        /* Needs to be in here for Safari polyfill so background images work as expected. */\n",
       "        background-size: auto;\n",
       "    }\n",
       "    .progress-bar-interrupted, .progress-bar-interrupted::-webkit-progress-bar {\n",
       "        background: #F44336;\n",
       "    }\n",
       "</style>\n"
      ],
      "text/plain": [
       "<IPython.core.display.HTML object>"
      ]
     },
     "metadata": {},
     "output_type": "display_data"
    },
    {
     "data": {
      "text/html": [
       "<table border=\"1\" class=\"dataframe\">\n",
       "  <thead>\n",
       "    <tr style=\"text-align: left;\">\n",
       "      <th>epoch</th>\n",
       "      <th>train_loss</th>\n",
       "      <th>valid_loss</th>\n",
       "      <th>error_rate</th>\n",
       "      <th>time</th>\n",
       "    </tr>\n",
       "  </thead>\n",
       "  <tbody>\n",
       "    <tr>\n",
       "      <td>0</td>\n",
       "      <td>1.054707</td>\n",
       "      <td>0.627834</td>\n",
       "      <td>0.194137</td>\n",
       "      <td>04:30</td>\n",
       "    </tr>\n",
       "  </tbody>\n",
       "</table>"
      ],
      "text/plain": [
       "<IPython.core.display.HTML object>"
      ]
     },
     "metadata": {},
     "output_type": "display_data"
    },
    {
     "data": {
      "text/html": [
       "\n",
       "<style>\n",
       "    /* Turns off some styling */\n",
       "    progress {\n",
       "        /* gets rid of default border in Firefox and Opera. */\n",
       "        border: none;\n",
       "        /* Needs to be in here for Safari polyfill so background images work as expected. */\n",
       "        background-size: auto;\n",
       "    }\n",
       "    .progress-bar-interrupted, .progress-bar-interrupted::-webkit-progress-bar {\n",
       "        background: #F44336;\n",
       "    }\n",
       "</style>\n"
      ],
      "text/plain": [
       "<IPython.core.display.HTML object>"
      ]
     },
     "metadata": {},
     "output_type": "display_data"
    },
    {
     "data": {
      "text/html": [
       "<table border=\"1\" class=\"dataframe\">\n",
       "  <thead>\n",
       "    <tr style=\"text-align: left;\">\n",
       "      <th>epoch</th>\n",
       "      <th>train_loss</th>\n",
       "      <th>valid_loss</th>\n",
       "      <th>error_rate</th>\n",
       "      <th>time</th>\n",
       "    </tr>\n",
       "  </thead>\n",
       "  <tbody>\n",
       "    <tr>\n",
       "      <td>0</td>\n",
       "      <td>0.487921</td>\n",
       "      <td>0.282362</td>\n",
       "      <td>0.086977</td>\n",
       "      <td>05:47</td>\n",
       "    </tr>\n",
       "    <tr>\n",
       "      <td>1</td>\n",
       "      <td>0.409677</td>\n",
       "      <td>0.246809</td>\n",
       "      <td>0.078328</td>\n",
       "      <td>05:48</td>\n",
       "    </tr>\n",
       "    <tr>\n",
       "      <td>2</td>\n",
       "      <td>0.403992</td>\n",
       "      <td>0.258278</td>\n",
       "      <td>0.078328</td>\n",
       "      <td>05:48</td>\n",
       "    </tr>\n",
       "    <tr>\n",
       "      <td>3</td>\n",
       "      <td>0.306631</td>\n",
       "      <td>0.210182</td>\n",
       "      <td>0.062951</td>\n",
       "      <td>05:46</td>\n",
       "    </tr>\n",
       "    <tr>\n",
       "      <td>4</td>\n",
       "      <td>0.221733</td>\n",
       "      <td>0.156997</td>\n",
       "      <td>0.049976</td>\n",
       "      <td>05:46</td>\n",
       "    </tr>\n",
       "    <tr>\n",
       "      <td>5</td>\n",
       "      <td>0.187358</td>\n",
       "      <td>0.189071</td>\n",
       "      <td>0.046612</td>\n",
       "      <td>05:48</td>\n",
       "    </tr>\n",
       "    <tr>\n",
       "      <td>6</td>\n",
       "      <td>0.157559</td>\n",
       "      <td>0.129377</td>\n",
       "      <td>0.031235</td>\n",
       "      <td>05:49</td>\n",
       "    </tr>\n",
       "    <tr>\n",
       "      <td>7</td>\n",
       "      <td>0.099292</td>\n",
       "      <td>0.104853</td>\n",
       "      <td>0.023066</td>\n",
       "      <td>05:47</td>\n",
       "    </tr>\n",
       "    <tr>\n",
       "      <td>8</td>\n",
       "      <td>0.072750</td>\n",
       "      <td>0.096139</td>\n",
       "      <td>0.023546</td>\n",
       "      <td>05:46</td>\n",
       "    </tr>\n",
       "    <tr>\n",
       "      <td>9</td>\n",
       "      <td>0.062425</td>\n",
       "      <td>0.078882</td>\n",
       "      <td>0.018260</td>\n",
       "      <td>05:47</td>\n",
       "    </tr>\n",
       "    <tr>\n",
       "      <td>10</td>\n",
       "      <td>0.046649</td>\n",
       "      <td>0.075645</td>\n",
       "      <td>0.017299</td>\n",
       "      <td>05:46</td>\n",
       "    </tr>\n",
       "    <tr>\n",
       "      <td>11</td>\n",
       "      <td>0.027784</td>\n",
       "      <td>0.073411</td>\n",
       "      <td>0.017299</td>\n",
       "      <td>05:47</td>\n",
       "    </tr>\n",
       "  </tbody>\n",
       "</table>"
      ],
      "text/plain": [
       "<IPython.core.display.HTML object>"
      ]
     },
     "metadata": {},
     "output_type": "display_data"
    },
    {
     "data": {
      "text/html": [
       "\n",
       "<style>\n",
       "    /* Turns off some styling */\n",
       "    progress {\n",
       "        /* gets rid of default border in Firefox and Opera. */\n",
       "        border: none;\n",
       "        /* Needs to be in here for Safari polyfill so background images work as expected. */\n",
       "        background-size: auto;\n",
       "    }\n",
       "    .progress-bar-interrupted, .progress-bar-interrupted::-webkit-progress-bar {\n",
       "        background: #F44336;\n",
       "    }\n",
       "</style>\n"
      ],
      "text/plain": [
       "<IPython.core.display.HTML object>"
      ]
     },
     "metadata": {},
     "output_type": "display_data"
    },
    {
     "data": {
      "text/html": [
       "\n",
       "    <div>\n",
       "      <progress value='0' class='' max='12' style='width:300px; height:20px; vertical-align: middle;'></progress>\n",
       "      \n",
       "    </div>\n",
       "    \n"
      ],
      "text/plain": [
       "<IPython.core.display.HTML object>"
      ]
     },
     "metadata": {},
     "output_type": "display_data"
    },
    {
     "data": {
      "text/html": [
       "\n",
       "<style>\n",
       "    /* Turns off some styling */\n",
       "    progress {\n",
       "        /* gets rid of default border in Firefox and Opera. */\n",
       "        border: none;\n",
       "        /* Needs to be in here for Safari polyfill so background images work as expected. */\n",
       "        background-size: auto;\n",
       "    }\n",
       "    .progress-bar-interrupted, .progress-bar-interrupted::-webkit-progress-bar {\n",
       "        background: #F44336;\n",
       "    }\n",
       "</style>\n"
      ],
      "text/plain": [
       "<IPython.core.display.HTML object>"
      ]
     },
     "metadata": {},
     "output_type": "display_data"
    },
    {
     "data": {
      "text/html": [],
      "text/plain": [
       "<IPython.core.display.HTML object>"
      ]
     },
     "metadata": {},
     "output_type": "display_data"
    },
    {
     "name": "stdout",
     "output_type": "stream",
     "text": [
      "--- swin_large_patch4_window7_224\n",
      "224\n",
      "Resize -- {'size': (480, 640), 'method': 'crop', 'pad_mode': 'reflection', 'resamples': (<Resampling.BILINEAR: 2>, <Resampling.NEAREST: 0>), 'p': 1.0}\n"
     ]
    },
    {
     "data": {
      "text/html": [
       "\n",
       "<style>\n",
       "    /* Turns off some styling */\n",
       "    progress {\n",
       "        /* gets rid of default border in Firefox and Opera. */\n",
       "        border: none;\n",
       "        /* Needs to be in here for Safari polyfill so background images work as expected. */\n",
       "        background-size: auto;\n",
       "    }\n",
       "    .progress-bar-interrupted, .progress-bar-interrupted::-webkit-progress-bar {\n",
       "        background: #F44336;\n",
       "    }\n",
       "</style>\n"
      ],
      "text/plain": [
       "<IPython.core.display.HTML object>"
      ]
     },
     "metadata": {},
     "output_type": "display_data"
    },
    {
     "data": {
      "text/html": [
       "<table border=\"1\" class=\"dataframe\">\n",
       "  <thead>\n",
       "    <tr style=\"text-align: left;\">\n",
       "      <th>epoch</th>\n",
       "      <th>train_loss</th>\n",
       "      <th>valid_loss</th>\n",
       "      <th>error_rate</th>\n",
       "      <th>time</th>\n",
       "    </tr>\n",
       "  </thead>\n",
       "  <tbody>\n",
       "    <tr>\n",
       "      <td>0</td>\n",
       "      <td>1.173668</td>\n",
       "      <td>0.775378</td>\n",
       "      <td>0.232100</td>\n",
       "      <td>04:35</td>\n",
       "    </tr>\n",
       "  </tbody>\n",
       "</table>"
      ],
      "text/plain": [
       "<IPython.core.display.HTML object>"
      ]
     },
     "metadata": {},
     "output_type": "display_data"
    },
    {
     "data": {
      "text/html": [
       "\n",
       "<style>\n",
       "    /* Turns off some styling */\n",
       "    progress {\n",
       "        /* gets rid of default border in Firefox and Opera. */\n",
       "        border: none;\n",
       "        /* Needs to be in here for Safari polyfill so background images work as expected. */\n",
       "        background-size: auto;\n",
       "    }\n",
       "    .progress-bar-interrupted, .progress-bar-interrupted::-webkit-progress-bar {\n",
       "        background: #F44336;\n",
       "    }\n",
       "</style>\n"
      ],
      "text/plain": [
       "<IPython.core.display.HTML object>"
      ]
     },
     "metadata": {},
     "output_type": "display_data"
    },
    {
     "data": {
      "text/html": [
       "<table border=\"1\" class=\"dataframe\">\n",
       "  <thead>\n",
       "    <tr style=\"text-align: left;\">\n",
       "      <th>epoch</th>\n",
       "      <th>train_loss</th>\n",
       "      <th>valid_loss</th>\n",
       "      <th>error_rate</th>\n",
       "      <th>time</th>\n",
       "    </tr>\n",
       "  </thead>\n",
       "  <tbody>\n",
       "    <tr>\n",
       "      <td>0</td>\n",
       "      <td>0.527241</td>\n",
       "      <td>0.293880</td>\n",
       "      <td>0.087938</td>\n",
       "      <td>06:03</td>\n",
       "    </tr>\n",
       "    <tr>\n",
       "      <td>1</td>\n",
       "      <td>0.421549</td>\n",
       "      <td>0.269922</td>\n",
       "      <td>0.088900</td>\n",
       "      <td>06:04</td>\n",
       "    </tr>\n",
       "    <tr>\n",
       "      <td>2</td>\n",
       "      <td>0.394615</td>\n",
       "      <td>0.267057</td>\n",
       "      <td>0.076886</td>\n",
       "      <td>06:04</td>\n",
       "    </tr>\n",
       "    <tr>\n",
       "      <td>3</td>\n",
       "      <td>0.292363</td>\n",
       "      <td>0.206004</td>\n",
       "      <td>0.058145</td>\n",
       "      <td>06:04</td>\n",
       "    </tr>\n",
       "    <tr>\n",
       "      <td>4</td>\n",
       "      <td>0.235194</td>\n",
       "      <td>0.249527</td>\n",
       "      <td>0.064392</td>\n",
       "      <td>06:04</td>\n",
       "    </tr>\n",
       "    <tr>\n",
       "      <td>5</td>\n",
       "      <td>0.183283</td>\n",
       "      <td>0.163378</td>\n",
       "      <td>0.047093</td>\n",
       "      <td>06:03</td>\n",
       "    </tr>\n",
       "    <tr>\n",
       "      <td>6</td>\n",
       "      <td>0.160734</td>\n",
       "      <td>0.156436</td>\n",
       "      <td>0.037963</td>\n",
       "      <td>06:04</td>\n",
       "    </tr>\n",
       "    <tr>\n",
       "      <td>7</td>\n",
       "      <td>0.114149</td>\n",
       "      <td>0.111111</td>\n",
       "      <td>0.030274</td>\n",
       "      <td>06:04</td>\n",
       "    </tr>\n",
       "    <tr>\n",
       "      <td>8</td>\n",
       "      <td>0.084741</td>\n",
       "      <td>0.107658</td>\n",
       "      <td>0.027871</td>\n",
       "      <td>06:03</td>\n",
       "    </tr>\n",
       "    <tr>\n",
       "      <td>9</td>\n",
       "      <td>0.055544</td>\n",
       "      <td>0.115847</td>\n",
       "      <td>0.026430</td>\n",
       "      <td>06:04</td>\n",
       "    </tr>\n",
       "    <tr>\n",
       "      <td>10</td>\n",
       "      <td>0.051052</td>\n",
       "      <td>0.106566</td>\n",
       "      <td>0.024507</td>\n",
       "      <td>06:03</td>\n",
       "    </tr>\n",
       "    <tr>\n",
       "      <td>11</td>\n",
       "      <td>0.039366</td>\n",
       "      <td>0.107335</td>\n",
       "      <td>0.025469</td>\n",
       "      <td>06:04</td>\n",
       "    </tr>\n",
       "  </tbody>\n",
       "</table>"
      ],
      "text/plain": [
       "<IPython.core.display.HTML object>"
      ]
     },
     "metadata": {},
     "output_type": "display_data"
    },
    {
     "data": {
      "text/html": [
       "\n",
       "<style>\n",
       "    /* Turns off some styling */\n",
       "    progress {\n",
       "        /* gets rid of default border in Firefox and Opera. */\n",
       "        border: none;\n",
       "        /* Needs to be in here for Safari polyfill so background images work as expected. */\n",
       "        background-size: auto;\n",
       "    }\n",
       "    .progress-bar-interrupted, .progress-bar-interrupted::-webkit-progress-bar {\n",
       "        background: #F44336;\n",
       "    }\n",
       "</style>\n"
      ],
      "text/plain": [
       "<IPython.core.display.HTML object>"
      ]
     },
     "metadata": {},
     "output_type": "display_data"
    },
    {
     "data": {
      "text/html": [
       "\n",
       "    <div>\n",
       "      <progress value='0' class='' max='12' style='width:300px; height:20px; vertical-align: middle;'></progress>\n",
       "      \n",
       "    </div>\n",
       "    \n"
      ],
      "text/plain": [
       "<IPython.core.display.HTML object>"
      ]
     },
     "metadata": {},
     "output_type": "display_data"
    },
    {
     "data": {
      "text/html": [
       "\n",
       "<style>\n",
       "    /* Turns off some styling */\n",
       "    progress {\n",
       "        /* gets rid of default border in Firefox and Opera. */\n",
       "        border: none;\n",
       "        /* Needs to be in here for Safari polyfill so background images work as expected. */\n",
       "        background-size: auto;\n",
       "    }\n",
       "    .progress-bar-interrupted, .progress-bar-interrupted::-webkit-progress-bar {\n",
       "        background: #F44336;\n",
       "    }\n",
       "</style>\n"
      ],
      "text/plain": [
       "<IPython.core.display.HTML object>"
      ]
     },
     "metadata": {},
     "output_type": "display_data"
    },
    {
     "data": {
      "text/html": [],
      "text/plain": [
       "<IPython.core.display.HTML object>"
      ]
     },
     "metadata": {},
     "output_type": "display_data"
    }
   ],
   "source": [
    "tta_res = []\n",
    "\n",
    "for arch,details in models.items():\n",
    "    for item,size in details:\n",
    "        print('---',arch)\n",
    "        print(size)\n",
    "        print(item.name)\n",
    "        tta_res.append(train(arch, size, item=item, accum=2)) #, epochs=1))\n",
    "        gc.collect()\n",
    "        torch.cuda.empty_cache()"
   ]
  },
  {
   "cell_type": "markdown",
   "id": "43e39a61",
   "metadata": {
    "papermill": {
     "duration": 0.020221,
     "end_time": "2022-06-26T04:54:49.748667",
     "exception": false,
     "start_time": "2022-06-26T04:54:49.728446",
     "status": "completed"
    },
    "tags": []
   },
   "source": [
    "## Ensembling"
   ]
  },
  {
   "cell_type": "markdown",
   "id": "81d2a9ae",
   "metadata": {
    "papermill": {
     "duration": 0.020863,
     "end_time": "2022-06-26T04:54:49.789765",
     "exception": false,
     "start_time": "2022-06-26T04:54:49.768902",
     "status": "completed"
    },
    "tags": []
   },
   "source": [
    "Since this has taken quite a while to run, let's save the results, just in case something goes wrong!"
   ]
  },
  {
   "cell_type": "code",
   "execution_count": 20,
   "id": "d6bb1926",
   "metadata": {
    "execution": {
     "iopub.execute_input": "2022-06-26T04:54:49.834248Z",
     "iopub.status.busy": "2022-06-26T04:54:49.833153Z",
     "iopub.status.idle": "2022-06-26T04:54:49.842771Z",
     "shell.execute_reply": "2022-06-26T04:54:49.842037Z"
    },
    "papermill": {
     "duration": 0.03388,
     "end_time": "2022-06-26T04:54:49.844548",
     "exception": false,
     "start_time": "2022-06-26T04:54:49.810668",
     "status": "completed"
    },
    "tags": []
   },
   "outputs": [],
   "source": [
    "save_pickle('tta_res.pkl', tta_res)"
   ]
  },
  {
   "cell_type": "markdown",
   "id": "377d032c",
   "metadata": {
    "papermill": {
     "duration": 0.020559,
     "end_time": "2022-06-26T04:54:49.885723",
     "exception": false,
     "start_time": "2022-06-26T04:54:49.865164",
     "status": "completed"
    },
    "tags": []
   },
   "source": [
    "`Learner.tta` returns predictions and targets for each rows. We just want the predictions:"
   ]
  },
  {
   "cell_type": "code",
   "execution_count": 21,
   "id": "188b92da",
   "metadata": {
    "execution": {
     "iopub.execute_input": "2022-06-26T04:54:49.927674Z",
     "iopub.status.busy": "2022-06-26T04:54:49.927266Z",
     "iopub.status.idle": "2022-06-26T04:54:49.931451Z",
     "shell.execute_reply": "2022-06-26T04:54:49.930583Z"
    },
    "papermill": {
     "duration": 0.027382,
     "end_time": "2022-06-26T04:54:49.933369",
     "exception": false,
     "start_time": "2022-06-26T04:54:49.905987",
     "status": "completed"
    },
    "tags": []
   },
   "outputs": [],
   "source": [
    "tta_prs = first(zip(*tta_res))"
   ]
  },
  {
   "cell_type": "markdown",
   "id": "119cee46",
   "metadata": {
    "papermill": {
     "duration": 0.020185,
     "end_time": "2022-06-26T04:54:49.973792",
     "exception": false,
     "start_time": "2022-06-26T04:54:49.953607",
     "status": "completed"
    },
    "tags": []
   },
   "source": [
    "Originally I just used the above predictions, but later I realised in my experiments on smaller models that `vit` was a bit better than everything else, so I decided to give those double the weight in my ensemble. I did that by simply adding the to the list a second time (we could also do this by using a weighted average):"
   ]
  },
  {
   "cell_type": "code",
   "execution_count": 22,
   "id": "aa53b593",
   "metadata": {
    "execution": {
     "iopub.execute_input": "2022-06-26T04:54:50.017066Z",
     "iopub.status.busy": "2022-06-26T04:54:50.016723Z",
     "iopub.status.idle": "2022-06-26T04:54:50.020532Z",
     "shell.execute_reply": "2022-06-26T04:54:50.019782Z"
    },
    "papermill": {
     "duration": 0.027383,
     "end_time": "2022-06-26T04:54:50.022226",
     "exception": false,
     "start_time": "2022-06-26T04:54:49.994843",
     "status": "completed"
    },
    "tags": []
   },
   "outputs": [],
   "source": [
    "tta_prs += tta_prs[1:3]"
   ]
  },
  {
   "cell_type": "markdown",
   "id": "f28d9870",
   "metadata": {
    "papermill": {
     "duration": 0.020388,
     "end_time": "2022-06-26T04:54:50.062437",
     "exception": false,
     "start_time": "2022-06-26T04:54:50.042049",
     "status": "completed"
    },
    "tags": []
   },
   "source": [
    "An *ensemble* simply refers to a model which is itself the result of combining a number of other models. The simplest way to do ensembling is to take the average of the predictions of each model:"
   ]
  },
  {
   "cell_type": "code",
   "execution_count": 23,
   "id": "daa07ade",
   "metadata": {
    "execution": {
     "iopub.execute_input": "2022-06-26T04:54:50.103590Z",
     "iopub.status.busy": "2022-06-26T04:54:50.103112Z",
     "iopub.status.idle": "2022-06-26T04:54:50.110318Z",
     "shell.execute_reply": "2022-06-26T04:54:50.109473Z"
    },
    "papermill": {
     "duration": 0.029887,
     "end_time": "2022-06-26T04:54:50.112104",
     "exception": false,
     "start_time": "2022-06-26T04:54:50.082217",
     "status": "completed"
    },
    "tags": []
   },
   "outputs": [
    {
     "data": {
      "text/plain": [
       "torch.Size([3469, 10])"
      ]
     },
     "execution_count": 23,
     "metadata": {},
     "output_type": "execute_result"
    }
   ],
   "source": [
    "avg_pr = torch.stack(tta_prs).mean(0)\n",
    "avg_pr.shape"
   ]
  },
  {
   "cell_type": "markdown",
   "id": "7961f761",
   "metadata": {
    "papermill": {
     "duration": 0.020366,
     "end_time": "2022-06-26T04:54:50.153358",
     "exception": false,
     "start_time": "2022-06-26T04:54:50.132992",
     "status": "completed"
    },
    "tags": []
   },
   "source": [
    "That's all that's needed to create an ensemble! Finally, we copy the steps we used in the last notebook to create a submission file:"
   ]
  },
  {
   "cell_type": "code",
   "execution_count": 24,
   "id": "d9e369d4",
   "metadata": {
    "execution": {
     "iopub.execute_input": "2022-06-26T04:54:50.195447Z",
     "iopub.status.busy": "2022-06-26T04:54:50.195023Z",
     "iopub.status.idle": "2022-06-26T04:54:51.861389Z",
     "shell.execute_reply": "2022-06-26T04:54:51.860308Z"
    },
    "papermill": {
     "duration": 1.689709,
     "end_time": "2022-06-26T04:54:51.863449",
     "exception": false,
     "start_time": "2022-06-26T04:54:50.173740",
     "status": "completed"
    },
    "tags": []
   },
   "outputs": [],
   "source": [
    "dls = ImageDataLoaders.from_folder(trn_path, valid_pct=0.2, item_tfms=Resize(480, method='squish'),\n",
    "    batch_tfms=aug_transforms(size=224, min_scale=0.75))"
   ]
  },
  {
   "cell_type": "code",
   "execution_count": 25,
   "id": "fcf9aee8",
   "metadata": {
    "execution": {
     "iopub.execute_input": "2022-06-26T04:54:51.909436Z",
     "iopub.status.busy": "2022-06-26T04:54:51.909049Z",
     "iopub.status.idle": "2022-06-26T04:54:51.968635Z",
     "shell.execute_reply": "2022-06-26T04:54:51.967793Z"
    },
    "papermill": {
     "duration": 0.086141,
     "end_time": "2022-06-26T04:54:51.970732",
     "exception": false,
     "start_time": "2022-06-26T04:54:51.884591",
     "status": "completed"
    },
    "tags": []
   },
   "outputs": [],
   "source": [
    "idxs = avg_pr.argmax(dim=1)\n",
    "vocab = np.array(dls.vocab)\n",
    "ss = pd.read_csv(path/'sample_submission.csv')\n",
    "ss['label'] = vocab[idxs]\n",
    "ss.to_csv('subm.csv', index=False)"
   ]
  },
  {
   "cell_type": "markdown",
   "id": "0f7a7977",
   "metadata": {
    "papermill": {
     "duration": 0.019301,
     "end_time": "2022-06-26T04:54:52.011158",
     "exception": false,
     "start_time": "2022-06-26T04:54:51.991857",
     "status": "completed"
    },
    "tags": []
   },
   "source": [
    "Now we can submit:"
   ]
  },
  {
   "cell_type": "code",
   "execution_count": 26,
   "id": "5677c4d0",
   "metadata": {
    "execution": {
     "iopub.execute_input": "2022-06-26T04:54:52.052118Z",
     "iopub.status.busy": "2022-06-26T04:54:52.051484Z",
     "iopub.status.idle": "2022-06-26T04:54:52.055493Z",
     "shell.execute_reply": "2022-06-26T04:54:52.054772Z"
    },
    "papermill": {
     "duration": 0.02628,
     "end_time": "2022-06-26T04:54:52.057173",
     "exception": false,
     "start_time": "2022-06-26T04:54:52.030893",
     "status": "completed"
    },
    "tags": []
   },
   "outputs": [],
   "source": [
    "if not iskaggle:\n",
    "    from kaggle import api\n",
    "    api.competition_submit_cli('subm.csv', 'part 3 v2', comp)"
   ]
  },
  {
   "cell_type": "markdown",
   "id": "2e9d9f5f",
   "metadata": {
    "papermill": {
     "duration": 0.019689,
     "end_time": "2022-06-26T04:54:52.097115",
     "exception": false,
     "start_time": "2022-06-26T04:54:52.077426",
     "status": "completed"
    },
    "tags": []
   },
   "source": [
    "That's it -- at the time of creating this analysis, that got easily to the top of the leaderboard! Here are the four submissions I entered, each of which was better than the last, and each of which was ranked #1:\n",
    "\n",
    "<img src=\"https://user-images.githubusercontent.com/346999/174503966-65005151-8f28-4f8b-b3c3-212cf74014f1.png\" width=\"400\">\n",
    "\n",
    "*Edit: Actually the one that got to the top of the leaderboard timed out when I ran it on Kaggle Notebooks, so I had to remove four of the runs from the ensemble. There's only a small difference in accuracy however.*"
   ]
  },
  {
   "cell_type": "markdown",
   "id": "3c944a27",
   "metadata": {
    "papermill": {
     "duration": 0.020203,
     "end_time": "2022-06-26T04:54:52.137397",
     "exception": false,
     "start_time": "2022-06-26T04:54:52.117194",
     "status": "completed"
    },
    "tags": []
   },
   "source": [
    "Going from bottom to top, here's what each one was:\n",
    "\n",
    "1. `convnext_small` trained for 12 epochs, with TTA\n",
    "1. `convnext_large` trained the same way\n",
    "1. The ensemble in this notebook, with `vit` models not over-weighted\n",
    "1. The ensemble in this notebook, with `vit` models over-weighted."
   ]
  },
  {
   "cell_type": "markdown",
   "id": "523b0047",
   "metadata": {
    "papermill": {
     "duration": 0.019716,
     "end_time": "2022-06-26T04:54:52.176557",
     "exception": false,
     "start_time": "2022-06-26T04:54:52.156841",
     "status": "completed"
    },
    "tags": []
   },
   "source": [
    "## Conclusion"
   ]
  },
  {
   "cell_type": "markdown",
   "id": "63046562",
   "metadata": {
    "papermill": {
     "duration": 0.019606,
     "end_time": "2022-06-26T04:54:52.216541",
     "exception": false,
     "start_time": "2022-06-26T04:54:52.196935",
     "status": "completed"
    },
    "tags": []
   },
   "source": [
    "The key takeaway I hope to get across from this series so far is that you can get great results in image recognition using very little code and a very standardised approach, and that with a rigorous process you can improve in significant steps. Our training function, including data processing and TTA, is just half a dozen lines of code, plus another 7 lines of code to ensemble the models and create a submission file!\n",
    "\n",
    "If you found this notebook useful, please remember to click the little up-arrow at the top to upvote it, since I like to know when people have found my work useful, and it helps others find it too. If you have any questions or comments, please pop them below -- I read every comment I receive!"
   ]
  },
  {
   "cell_type": "code",
   "execution_count": 27,
   "id": "8cae28cf",
   "metadata": {
    "execution": {
     "iopub.execute_input": "2022-06-26T04:54:52.257922Z",
     "iopub.status.busy": "2022-06-26T04:54:52.257265Z",
     "iopub.status.idle": "2022-06-26T04:54:52.262676Z",
     "shell.execute_reply": "2022-06-26T04:54:52.261955Z"
    },
    "papermill": {
     "duration": 0.027958,
     "end_time": "2022-06-26T04:54:52.264497",
     "exception": false,
     "start_time": "2022-06-26T04:54:52.236539",
     "status": "completed"
    },
    "tags": []
   },
   "outputs": [],
   "source": [
    "# This is what I use to push my notebook from my home PC to Kaggle\n",
    "\n",
    "if not iskaggle:\n",
    "    push_notebook('jhoward', 'scaling-up-road-to-the-top-part-3',\n",
    "                  title='Scaling Up: Road to the Top, Part 3',\n",
    "                  file='10-scaling-up-road-to-the-top-part-3.ipynb',\n",
    "                  competition=comp, private=False, gpu=True)"
   ]
  }
 ],
 "metadata": {
  "kernelspec": {
   "display_name": "Python 3",
   "language": "python",
   "name": "python3"
  },
  "language_info": {
   "codemirror_mode": {
    "name": "ipython",
    "version": 3
   },
   "file_extension": ".py",
   "mimetype": "text/x-python",
   "name": "python",
   "nbconvert_exporter": "python",
   "pygments_lexer": "ipython3",
   "version": "3.7.12"
  },
  "papermill": {
   "default_parameters": {},
   "duration": 35033.396183,
   "end_time": "2022-06-26T04:54:55.723606",
   "environment_variables": {},
   "exception": null,
   "input_path": "__notebook__.ipynb",
   "output_path": "__notebook__.ipynb",
   "parameters": {},
   "start_time": "2022-06-25T19:11:02.327423",
   "version": "2.3.4"
  }
 },
 "nbformat": 4,
 "nbformat_minor": 5
}
